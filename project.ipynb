{
  "nbformat": 4,
  "nbformat_minor": 0,
  "metadata": {
    "colab": {
      "name": "project.ipynb",
      "provenance": [],
      "collapsed_sections": []
    },
    "kernelspec": {
      "name": "python3",
      "display_name": "Python 3"
    },
    "language_info": {
      "name": "python"
    }
  },
  "cells": [
    {
      "cell_type": "code",
      "metadata": {
        "id": "AjewKxouH2W-"
      },
      "source": [
        "#Diabetes "
      ],
      "execution_count": null,
      "outputs": []
    },
    {
      "cell_type": "code",
      "metadata": {
        "id": "VO3mFvbTDjf6"
      },
      "source": [
        "#our project\n",
        "import pandas as pd\n",
        "import seaborn as sns\n",
        "import matplotlib.pyplot as plt\n",
        "import numpy as np\n",
        "\n",
        "%matplotlib inline"
      ],
      "execution_count": null,
      "outputs": []
    },
    {
      "cell_type": "code",
      "metadata": {
        "id": "6HQSMQkQIL8B"
      },
      "source": [
        "url = \"https://raw.githubusercontent.com/tanusgit/Forcsvfiles/main/diabetes_dataset__2019.csv\"\n",
        "df = pd.read_csv(url)"
      ],
      "execution_count": null,
      "outputs": []
    },
    {
      "cell_type": "code",
      "metadata": {
        "colab": {
          "base_uri": "https://localhost:8080/"
        },
        "id": "4B_L_6EbErVl",
        "outputId": "594a8387-4b61-4bd4-bf08-158445764194"
      },
      "source": [
        "# Tanusree's dataset to analyze the data by creating meaningful graphs and charts\n",
        "\n",
        "tanudataset = df.drop(columns=[\"Family_Diabetes\", \"highBP\", \"PhysicallyActive\", \"SoundSleep\", \"Pdiabetes\", \"Pregancies\", \"Alcohol\",\n",
        "                               \"RegularMedicine\", \"Stress\", \"BPLevel\", \"UriationFreq\"])\n",
        "#this is Tanusree's dataset\n",
        "tanudataset.info()"
      ],
      "execution_count": null,
      "outputs": [
        {
          "output_type": "stream",
          "name": "stdout",
          "text": [
            "<class 'pandas.core.frame.DataFrame'>\n",
            "RangeIndex: 952 entries, 0 to 951\n",
            "Data columns (total 7 columns):\n",
            " #   Column    Non-Null Count  Dtype  \n",
            "---  ------    --------------  -----  \n",
            " 0   Age       952 non-null    object \n",
            " 1   Gender    952 non-null    object \n",
            " 2   BMI       948 non-null    float64\n",
            " 3   Smoking   952 non-null    object \n",
            " 4   Sleep     952 non-null    int64  \n",
            " 5   JunkFood  952 non-null    object \n",
            " 6   Diabetic  951 non-null    object \n",
            "dtypes: float64(1), int64(1), object(5)\n",
            "memory usage: 52.2+ KB\n"
          ]
        }
      ]
    },
    {
      "cell_type": "markdown",
      "metadata": {
        "id": "rcJbN-EpIV_2"
      },
      "source": [
        "Name: Tanusree Debnath\n",
        "\n",
        "In this project I will mainly focus on the columns Age, Gender, BMI, Smoking, Sleep, JunkFood to see and anylize how they contribute towards diebetis.\n"
      ]
    },
    {
      "cell_type": "code",
      "metadata": {
        "colab": {
          "base_uri": "https://localhost:8080/"
        },
        "id": "fpmS4VEuV5Px",
        "outputId": "1fc8ed8f-6c40-4ff2-db0a-964edbad96a6"
      },
      "source": [
        "df.shape"
      ],
      "execution_count": null,
      "outputs": [
        {
          "output_type": "execute_result",
          "data": {
            "text/plain": [
              "(952, 18)"
            ]
          },
          "metadata": {},
          "execution_count": 6
        }
      ]
    },
    {
      "cell_type": "code",
      "metadata": {
        "colab": {
          "base_uri": "https://localhost:8080/"
        },
        "id": "v-VGWlU2MsfK",
        "outputId": "c4bf7491-1076-45f7-f324-6d289f81142f"
      },
      "source": [
        "#counting the number of male and females to know if gender plays any role to get affected by diebetis\n",
        "df[\"Gender\"].value_counts()\n"
      ],
      "execution_count": null,
      "outputs": [
        {
          "output_type": "execute_result",
          "data": {
            "text/plain": [
              "Male      580\n",
              "Female    372\n",
              "Name: Gender, dtype: int64"
            ]
          },
          "metadata": {},
          "execution_count": 7
        }
      ]
    },
    {
      "cell_type": "code",
      "metadata": {
        "colab": {
          "base_uri": "https://localhost:8080/"
        },
        "id": "_WE44waWOKjd",
        "outputId": "64acf851-6021-40b6-bc9f-5fbb654b2f2b"
      },
      "source": [
        "#counting how many male has diebetic among the total number of males in the dataset\n",
        "Malediebetic = df[(df.Gender == \"Male\") & (df.Diabetic == 'yes')]\n",
        "Malediebetic.shape[0]\n",
        "\n",
        "print(len((df[(df.Gender == \"Male\") & (df.Diabetic == 'yes')])))\n",
        "\n",
        "ratio = (154/580)*100\n",
        "print(ratio)"
      ],
      "execution_count": null,
      "outputs": [
        {
          "output_type": "stream",
          "name": "stdout",
          "text": [
            "154\n",
            "26.551724137931032\n"
          ]
        }
      ]
    },
    {
      "cell_type": "markdown",
      "metadata": {
        "id": "ohnzZdRJSLNW"
      },
      "source": [
        "Analysis:\n",
        "\n",
        "From the above data we see that 26.55% male get diebetis.\n"
      ]
    },
    {
      "cell_type": "code",
      "metadata": {
        "id": "3G-NB4coSAbU"
      },
      "source": [
        "#from the above data we see that 26.55% male get diebetis"
      ],
      "execution_count": null,
      "outputs": []
    },
    {
      "cell_type": "code",
      "metadata": {
        "colab": {
          "base_uri": "https://localhost:8080/"
        },
        "id": "EFI4QIT3SUbH",
        "outputId": "b862f812-654c-43c3-a36c-0970aa66608b"
      },
      "source": [
        "#counting how many female has diebetic among the total number of females in the dataset\n",
        "Femalediebetic = df[(df.Gender == \"Female\") & (df.Diabetic == 'yes')]\n",
        "Femalediebetic.shape[0]\n",
        "\n",
        "print(len((df[(df.Gender == \"Female\") & (df.Diabetic == 'yes')])))\n",
        "\n",
        "ratio = (112/580)*100\n",
        "print(ratio)"
      ],
      "execution_count": null,
      "outputs": [
        {
          "output_type": "stream",
          "name": "stdout",
          "text": [
            "112\n",
            "19.310344827586206\n"
          ]
        }
      ]
    },
    {
      "cell_type": "code",
      "metadata": {
        "id": "L5SVRsXpv2D3"
      },
      "source": [
        ""
      ],
      "execution_count": null,
      "outputs": []
    },
    {
      "cell_type": "markdown",
      "metadata": {
        "id": "0ubdBBbdSk_r"
      },
      "source": [
        "Analysis:\n",
        "\n",
        "From the above data we see that 19.31% femmale get diabetes which is lower than the male. So, by analyzing the dataset we can coclude that men are more at a risk of getting diabetes.\n"
      ]
    },
    {
      "cell_type": "code",
      "metadata": {
        "colab": {
          "base_uri": "https://localhost:8080/",
          "height": 336
        },
        "id": "YJAKvI5MbGPu",
        "outputId": "e85d7e8d-e547-4573-d135-091442e6e71a"
      },
      "source": [
        "#we will see how many male, females have diabetis from total number of male and female\n",
        "fig = plt.figure()\n",
        "ax = fig.add_axes([0,0,1,1])\n",
        "l = ['Male', 'Males with diabetis', 'Female', 'Female with diebetis']\n",
        "people = [580,154,372,112]\n",
        "#ax.bar(l,people)\n",
        "plt.bar(l, people, color='red')\n",
        "plt.show()"
      ],
      "execution_count": null,
      "outputs": [
        {
          "output_type": "display_data",
          "data": {
            "image/png": "[encoded data removed]",
            "text/plain": [
              "<Figure size 432x288 with 1 Axes>"
            ]
          },
          "metadata": {
            "needs_background": "light"
          }
        }
      ]
    },
    {
      "cell_type": "code",
      "metadata": {
        "colab": {
          "base_uri": "https://localhost:8080/",
          "height": 264
        },
        "id": "NaXMyrNLTJIL",
        "outputId": "ac07bdbc-b4e9-4f3d-85a5-b72126cd3964"
      },
      "source": [
        "#showing the comparison between men and female's diebetis score\n",
        "\n",
        "y = np.array([26.55, 19.31])\n",
        "mylabels = ['Male', 'Female']\n",
        "\n",
        "plt.pie(y, labels = mylabels)\n",
        "plt.title(\"Male vs female who got diebetis\")\n",
        "plt.show() \n"
      ],
      "execution_count": null,
      "outputs": [
        {
          "output_type": "display_data",
          "data": {
            "image/png": "[encoded data removed]",
            "text/plain": [
              "<Figure size 432x288 with 1 Axes>"
            ]
          },
          "metadata": {}
        }
      ]
    },
    {
      "cell_type": "code",
      "metadata": {
        "colab": {
          "base_uri": "https://localhost:8080/"
        },
        "id": "oLatPpcOUBs_",
        "outputId": "bd93ca34-05c1-48d6-e98b-10aff1c3c921"
      },
      "source": [
        "#lets see if smoking can cause diebetis. We will draw a conclusion based on how many people get diebetis if the smoke\n",
        "df[\"Smoking\"].value_counts()\n"
      ],
      "execution_count": null,
      "outputs": [
        {
          "output_type": "execute_result",
          "data": {
            "text/plain": [
              "no     844\n",
              "yes    108\n",
              "Name: Smoking, dtype: int64"
            ]
          },
          "metadata": {},
          "execution_count": 13
        }
      ]
    },
    {
      "cell_type": "code",
      "metadata": {
        "colab": {
          "base_uri": "https://localhost:8080/"
        },
        "id": "NUoNuH0zUdbb",
        "outputId": "977868d4-d865-4aaa-d64e-e4112877f2b4"
      },
      "source": [
        "#counting how many smoker has diebetis \n",
        "Smokerdiebetic = df[(df.Smoking == \"yes\") & (df.Diabetic == 'yes')]\n",
        "Smokerdiebetic.shape[0]\n",
        "\n",
        "print(len((df[(df.Smoking == \"yes\") & (df.Diabetic == 'yes')])))\n",
        "\n",
        "ratio = (29/108)*100\n",
        "print(ratio)"
      ],
      "execution_count": null,
      "outputs": [
        {
          "output_type": "stream",
          "name": "stdout",
          "text": [
            "29\n",
            "26.851851851851855\n"
          ]
        }
      ]
    },
    {
      "cell_type": "markdown",
      "metadata": {
        "id": "zI8b12K0VD2e"
      },
      "source": [
        "Analysis:\n",
        "\n",
        "We can see that from our dataset 108 people smoke out of 952 people. And out of 108 people who smoke, 29 people have diebetis. This means that 26.85% people who smoke has diebetis."
      ]
    },
    {
      "cell_type": "code",
      "metadata": {
        "colab": {
          "base_uri": "https://localhost:8080/"
        },
        "id": "vaV-KCyWV8Kh",
        "outputId": "0c62d5de-f0fc-4b19-c108-a8e7f4920122"
      },
      "source": [
        "#counting how many non-smoker has diebetis \n",
        "NONSmokerdiebetic = df[(df.Smoking == \"no\") & (df.Diabetic == 'yes')]\n",
        "NONSmokerdiebetic.shape[0]\n",
        "\n",
        "print(len((df[(df.Smoking == \"no\") & (df.Diabetic == 'yes')])))\n",
        "\n",
        "ratio = (237/844)*100\n",
        "print(ratio)"
      ],
      "execution_count": null,
      "outputs": [
        {
          "output_type": "stream",
          "name": "stdout",
          "text": [
            "237\n",
            "28.080568720379144\n"
          ]
        }
      ]
    },
    {
      "cell_type": "markdown",
      "metadata": {
        "id": "cRQLDhtZWU6b"
      },
      "source": [
        "Analysis-:\n",
        "\n",
        "We see that non-smoker have a high value of diebetis problem. People who do not smoke get diebetis more than people who smoke. \n"
      ]
    },
    {
      "cell_type": "code",
      "metadata": {
        "colab": {
          "base_uri": "https://localhost:8080/",
          "height": 264
        },
        "id": "0t_3LEMBWo0q",
        "outputId": "23854d54-8b18-4c52-e1c7-4d9ac93ddd53"
      },
      "source": [
        "#pie chart to show smoker vs non-smoker with diebetis problem\n",
        "y = np.array([26.85, 28.08])\n",
        "mylabels = ['Smoker', 'Non-Smoker']\n",
        "\n",
        "plt.pie(y, labels = mylabels)\n",
        "plt.title(\"Smoker vs non-smoker who got diebetis\")\n",
        "plt.show() \n"
      ],
      "execution_count": null,
      "outputs": [
        {
          "output_type": "display_data",
          "data": {
            "image/png": "[encoded data removed]",
            "text/plain": [
              "<Figure size 432x288 with 1 Axes>"
            ]
          },
          "metadata": {}
        }
      ]
    },
    {
      "cell_type": "code",
      "metadata": {
        "colab": {
          "base_uri": "https://localhost:8080/",
          "height": 336
        },
        "id": "B4ESmZ-Gcdv0",
        "outputId": "2257fd2c-1412-490c-edd4-e65af2f39c66"
      },
      "source": [
        "#we will see how many smoker, non-smoker have diebetis from total number of smoker and non-smokers\n",
        "fig = plt.figure()\n",
        "ax = fig.add_axes([0,0,1,1])\n",
        "l = ['Smoker', 'Smokers with diabetis', 'Non-smoker', 'Non-smoker with diebetis']\n",
        "people = [108,29,844,237]\n",
        "plt.bar(l, people, color='red')\n",
        "plt.show()"
      ],
      "execution_count": null,
      "outputs": [
        {
          "output_type": "display_data",
          "data": {
            "image/png": "[encoded data removed]",
            "text/plain": [
              "<Figure size 432x288 with 1 Axes>"
            ]
          },
          "metadata": {
            "needs_background": "light"
          }
        }
      ]
    },
    {
      "cell_type": "markdown",
      "metadata": {
        "id": "EbhNHlwjX9f8"
      },
      "source": [
        "In the follwing section we will see if age has any contribution towards this harmful deases\n"
      ]
    },
    {
      "cell_type": "code",
      "metadata": {
        "colab": {
          "base_uri": "https://localhost:8080/"
        },
        "id": "I8vOj2O0YFJm",
        "outputId": "fc708083-99a5-451d-d76c-c9f5b6d505c1"
      },
      "source": [
        "df[\"Age\"].value_counts()"
      ],
      "execution_count": null,
      "outputs": [
        {
          "output_type": "execute_result",
          "data": {
            "text/plain": [
              "less than 40    488\n",
              "40-49           164\n",
              "50-59           156\n",
              "60 or older     144\n",
              "Name: Age, dtype: int64"
            ]
          },
          "metadata": {},
          "execution_count": 18
        }
      ]
    },
    {
      "cell_type": "code",
      "metadata": {
        "colab": {
          "base_uri": "https://localhost:8080/"
        },
        "id": "BcdwYWKnkZY0",
        "outputId": "c775857d-2271-443a-f5bd-342338d24939"
      },
      "source": [
        "#counting how many people less than 40 years old has diebetis \n",
        "less_than_40 = df[(df.Age == \"less than 40\") & (df.Diabetic == 'yes')]\n",
        "print(less_than_40.shape[0])\n",
        "#counting how many  people between 40-49 years old has diebetis\n",
        "fourty = df[(df.Age == \"40-49\") & (df.Diabetic == 'yes')]\n",
        "print(fourty.shape[0])\n",
        "#counting how many  people between 50-59 years old has diebetis\n",
        "fifty = df[(df.Age == \"50-59\") & (df.Diabetic == 'yes')]\n",
        "print(fifty.shape[0])\n",
        "#counting how many people 60 years old or more than 60 years old has diebetis \n",
        "sixty = df[(df.Age == \"60 or older\") & (df.Diabetic == 'yes')]\n",
        "print(sixty.shape[0])\n",
        "\n",
        "print(\"Total number of people who are less than 40 years old is 488\" )\n",
        "\n",
        "print(\"Total number of people who are bwtween 40 and 49 is 164\" )\n",
        "print(\"Total number of people who are bwtween 50 and 59 is 156\" )\n",
        "print(\"Total number of people who are less than 60 years old or older is 144\" )\n",
        "\n",
        "\n"
      ],
      "execution_count": null,
      "outputs": [
        {
          "output_type": "stream",
          "name": "stdout",
          "text": [
            "32\n",
            "50\n",
            "72\n",
            "112\n",
            "Total number of people who are less than 40 years old is 488\n",
            "Total number of people who are bwtween 40 and 49 is 164\n",
            "Total number of people who are bwtween 50 and 59 is 156\n",
            "Total number of people who are less than 60 years old or older is 144\n"
          ]
        }
      ]
    },
    {
      "cell_type": "code",
      "metadata": {
        "colab": {
          "base_uri": "https://localhost:8080/",
          "height": 264
        },
        "id": "UaqRimylsBCE",
        "outputId": "5c48eab7-5850-4d63-acff-9adeb639524e"
      },
      "source": [
        "#pie chart to show different age group people with diabetes problem\n",
        "y = np.array([32, 50,72,112])\n",
        "mylabels = ['less than 40', '40-49 years old', '50-59 years old', '60 years or older']\n",
        "\n",
        "plt.pie(y, labels = mylabels)\n",
        "plt.title(\"Different age group people with diabetes problem\")\n",
        "plt.show() "
      ],
      "execution_count": null,
      "outputs": [
        {
          "output_type": "display_data",
          "data": {
            "image/png": "[encoded data removed]",
            "text/plain": [
              "<Figure size 432x288 with 1 Axes>"
            ]
          },
          "metadata": {}
        }
      ]
    },
    {
      "cell_type": "code",
      "metadata": {
        "colab": {
          "base_uri": "https://localhost:8080/",
          "height": 792
        },
        "id": "uBmSYpz-m-Yp",
        "outputId": "ad017cba-1260-472f-c141-1251b5825c5c"
      },
      "source": [
        "#we will see how age is related to diabetes\n",
        "fig = plt.figure()\n",
        "ax = fig.add_axes([0,0,3,3])\n",
        "l = ['less than 40', 'less than 40 with diabetes', '40-49 years old', '40-49 years old with diabetes', '50-59 years old',\n",
        "     '50-59 years old with diabetes', '60 years or older', '60 years or older with diabetes']\n",
        "people = [488,32,164, 50,156,72, 144, 112]\n",
        "plt.bar(l, people, color='green')\n",
        "plt.show()"
      ],
      "execution_count": null,
      "outputs": [
        {
          "output_type": "display_data",
          "data": {
            "image/png": "[encoded data removed]",
            "text/plain": [
              "<Figure size 432x288 with 1 Axes>"
            ]
          },
          "metadata": {
            "needs_background": "light"
          }
        }
      ]
    },
    {
      "cell_type": "code",
      "metadata": {
        "colab": {
          "base_uri": "https://localhost:8080/"
        },
        "id": "cNbuMGSepEgj",
        "outputId": "4c490e8a-47ad-4f5b-f814-4e34474baee2"
      },
      "source": [
        "#60 years old\n",
        "print(112/144 * 100)\n",
        "#less than 40\n",
        "print(32/488 * 100)"
      ],
      "execution_count": null,
      "outputs": [
        {
          "output_type": "stream",
          "name": "stdout",
          "text": [
            "77.77777777777779\n",
            "6.557377049180328\n"
          ]
        }
      ]
    },
    {
      "cell_type": "markdown",
      "metadata": {
        "id": "PsmfDbLyos9u"
      },
      "source": [
        "Analysis:\n",
        "\n",
        "After looking at the data and the chart we can see that younger people do not have diabetes as much as older people have. More than 77.77% 60 years or older people have diabetes where as only 6.56% less than 40 years old people have diabetes. So, we see that older people have higher risk of getting this diesease."
      ]
    },
    {
      "cell_type": "code",
      "metadata": {
        "colab": {
          "base_uri": "https://localhost:8080/"
        },
        "id": "X1TF6z-3VKrd",
        "outputId": "7ea2d05b-a6ec-44e6-c6fa-2350da272fbd"
      },
      "source": [
        "df[\"Sleep\"].value_counts()"
      ],
      "execution_count": null,
      "outputs": [
        {
          "output_type": "execute_result",
          "data": {
            "text/plain": [
              "7     264\n",
              "8     256\n",
              "6     256\n",
              "5      68\n",
              "9      48\n",
              "4      32\n",
              "10     24\n",
              "11      4\n",
              "Name: Sleep, dtype: int64"
            ]
          },
          "metadata": {},
          "execution_count": 23
        }
      ]
    },
    {
      "cell_type": "code",
      "metadata": {
        "colab": {
          "base_uri": "https://localhost:8080/"
        },
        "id": "TMN-ywRu3sAe",
        "outputId": "f1d676f3-43c6-48ff-c0a7-b7c9705be151"
      },
      "source": [
        "#how sleep affects our health\n",
        "\n",
        "four = df[(df.Sleep == 4) & (df.Diabetic == 'yes')]\n",
        "print(four.shape[0])\n",
        "five = df[(df.Sleep == 5) & (df.Diabetic == 'yes')]\n",
        "print(five.shape[0])\n",
        "six = df[(df.Sleep == 6) & (df.Diabetic == 'yes')]\n",
        "print(six.shape[0])\n",
        "seven= df[(df.Sleep == 7) & (df.Diabetic == 'yes')]\n",
        "print(seven.shape[0])\n",
        "eight = df[(df.Sleep == 8) & (df.Diabetic == 'yes')]\n",
        "print(eight.shape[0])\n",
        "nine= df[(df.Sleep == 9) & (df.Diabetic == 'yes')]\n",
        "print(nine.shape[0])\n",
        "ten= df[(df.Sleep == 10) & (df.Diabetic == 'yes')]\n",
        "print(ten.shape[0])\n",
        "eleven= df[(df.Sleep == 11) & (df.Diabetic == 'yes')]\n",
        "print(eleven.shape[0])\n",
        "\n",
        "\n"
      ],
      "execution_count": null,
      "outputs": [
        {
          "output_type": "stream",
          "name": "stdout",
          "text": [
            "20\n",
            "24\n",
            "65\n",
            "61\n",
            "76\n",
            "12\n",
            "8\n",
            "0\n"
          ]
        }
      ]
    },
    {
      "cell_type": "code",
      "metadata": {
        "colab": {
          "base_uri": "https://localhost:8080/"
        },
        "id": "nluQYwYl6mhC",
        "outputId": "939782ff-f8fe-447e-e8d8-3601e2b17d7d"
      },
      "source": [
        "ratio4 = 20/ 32 * 100\n",
        "ratio5 = 24 / 68 * 100\n",
        "ratio6 = 65 / 256 * 100\n",
        "ratio7 = 61/ 264 * 100\n",
        "ratio8 = 76 / 256 * 100\n",
        "ratio9 = 12 / 48 * 100\n",
        "ratio10 = 8 / 24 * 100\n",
        "ratio11 =0 / 4 * 100\n",
        "print(ratio4)\n"
      ],
      "execution_count": null,
      "outputs": [
        {
          "output_type": "stream",
          "name": "stdout",
          "text": [
            "62.5\n"
          ]
        }
      ]
    },
    {
      "cell_type": "code",
      "metadata": {
        "id": "dEqkGybO7Ymd"
      },
      "source": [
        ""
      ],
      "execution_count": null,
      "outputs": []
    },
    {
      "cell_type": "code",
      "metadata": {
        "colab": {
          "base_uri": "https://localhost:8080/",
          "height": 264
        },
        "id": "5ER9yVUr5nXH",
        "outputId": "7f7cb16c-90ce-4603-f797-ccc06c9265b3"
      },
      "source": [
        "#pie chart to show people with diabetes problem who have different sleep duration\n",
        "y = np.array([20,24,65,61,76,12,8,0])\n",
        "mylabels = ['4 hours sleep', '5 hours sleep', '6 hours sleep', '7  hours sleep', '8  hours sleep',\n",
        "            '9 hours sleep', '10 hours sleep', '11  hours sleep']\n",
        "\n",
        "plt.pie(y, labels = mylabels)\n",
        "plt.title(\"This chart only shows how many people with diabetes sleep for a specific amount of hours\")\n",
        "plt.show() "
      ],
      "execution_count": null,
      "outputs": [
        {
          "output_type": "display_data",
          "data": {
            "image/png": "[encoded data removed]",
            "text/plain": [
              "<Figure size 432x288 with 1 Axes>"
            ]
          },
          "metadata": {}
        }
      ]
    },
    {
      "cell_type": "code",
      "metadata": {
        "colab": {
          "base_uri": "https://localhost:8080/",
          "height": 264
        },
        "id": "DE9q79sW8aIJ",
        "outputId": "b74b8724-7e05-4fe7-8101-be567c3ae9a9"
      },
      "source": [
        "#pie chart to show people with diabetes problem who have different sleep duration \n",
        "y = np.array([ratio4, ratio5, ratio6, ratio7, ratio8, ratio9, ratio10, ratio11])\n",
        "mylabels = ['4 hours sleep', '5 hours sleep', '6 hours sleep', '7  hours sleep', '8  hours sleep',\n",
        "            '9 hours sleep', '10 hours sleep', '11  hours sleep']\n",
        "\n",
        "plt.pie(y, labels = mylabels)\n",
        "plt.title(\"How sleep hours affects people's health and make them with diabetic\")\n",
        "plt.show() "
      ],
      "execution_count": null,
      "outputs": [
        {
          "output_type": "display_data",
          "data": {
            "image/png": "[encoded data removed]",
            "text/plain": [
              "<Figure size 432x288 with 1 Axes>"
            ]
          },
          "metadata": {}
        }
      ]
    },
    {
      "cell_type": "markdown",
      "metadata": {
        "id": "dFoGqkHv6ZEX"
      },
      "source": [
        "Analysis\n",
        "\n",
        "By looking at the previous chart we can clearly see that people who do not get a lot of sleep are at the risk of getting diabetes. For emample people who sleep only for 4 hours have a high chance of getting diabetes."
      ]
    },
    {
      "cell_type": "code",
      "metadata": {
        "id": "q8kM7Ghj5cJv"
      },
      "source": [
        ""
      ],
      "execution_count": null,
      "outputs": []
    },
    {
      "cell_type": "code",
      "metadata": {
        "colab": {
          "base_uri": "https://localhost:8080/"
        },
        "id": "jGip4lAdqgP5",
        "outputId": "66eb8352-5ae4-4056-9799-624ba549e69d"
      },
      "source": [
        "df[\"JunkFood\"].value_counts()"
      ],
      "execution_count": null,
      "outputs": [
        {
          "output_type": "execute_result",
          "data": {
            "text/plain": [
              "occasionally    672\n",
              "often           184\n",
              "very often       52\n",
              "always           44\n",
              "Name: JunkFood, dtype: int64"
            ]
          },
          "metadata": {},
          "execution_count": 28
        }
      ]
    },
    {
      "cell_type": "code",
      "metadata": {
        "colab": {
          "base_uri": "https://localhost:8080/"
        },
        "id": "j-SQaqqpqrnK",
        "outputId": "a5ded722-6496-4188-b21f-68860cb3b962"
      },
      "source": [
        "#counting how many people have junkfood occasionally have diebetis \n",
        "occasionally= df[(df.JunkFood == \"occasionally\") & (df.Diabetic == 'yes')]\n",
        "print(occasionally.shape[0])\n",
        "#counting how many  people have junkfood often have diebetis\n",
        "o = df[(df.JunkFood == \"often\") & (df.Diabetic == 'yes')]\n",
        "print(o.shape[0])\n",
        "#counting how many  people have junkfood very often have diebetis\n",
        "vo = df[(df.JunkFood == \"very often\") & (df.Diabetic == 'yes')]\n",
        "print(vo.shape[0])\n",
        "#counting how many people have junkfood always have diebetis \n",
        "alw = df[(df.JunkFood == \"always\") & (df.Diabetic == 'yes')]\n",
        "print(alw.shape[0])\n"
      ],
      "execution_count": null,
      "outputs": [
        {
          "output_type": "stream",
          "name": "stdout",
          "text": [
            "201\n",
            "42\n",
            "15\n",
            "8\n"
          ]
        }
      ]
    },
    {
      "cell_type": "code",
      "metadata": {
        "colab": {
          "base_uri": "https://localhost:8080/",
          "height": 264
        },
        "id": "qImyTIcdspLm",
        "outputId": "fdcb7861-a7ff-44d0-b197-9b3f0c305683"
      },
      "source": [
        "#pie chart to show people with different junkfood habit has diabetes problem\n",
        "y = np.array([201, 42,15,8])\n",
        "mylabels = ['occasionally eats junkfood', 'often eats junkfood', 'very-often eats junkfood', 'always eats junkfood']\n",
        "\n",
        "plt.pie(y, labels = mylabels)\n",
        "plt.title(\"People with different habit of eating junkfood have diabetes problem\")\n",
        "plt.show() "
      ],
      "execution_count": null,
      "outputs": [
        {
          "output_type": "display_data",
          "data": {
            "image/png": "[encoded data removed]",
            "text/plain": [
              "<Figure size 432x288 with 1 Axes>"
            ]
          },
          "metadata": {}
        }
      ]
    },
    {
      "cell_type": "code",
      "metadata": {
        "colab": {
          "base_uri": "https://localhost:8080/",
          "height": 792
        },
        "id": "boVk6IDztjPZ",
        "outputId": "ac37a564-23ec-44ca-c1db-51d8c59a2def"
      },
      "source": [
        "#we will see how junkfood is related to diabetes\n",
        "fig = plt.figure()\n",
        "ax = fig.add_axes([0,0,3,3])\n",
        "l = ['occasionally', 'occasionally with diabetes', 'often', 'often  with diabetes', 'very-often', 'very-often with diabetes', 'always',\n",
        "     'always with diabetes' ]\n",
        "people = [672, 201, 184, 42,52, 15,44, 8]\n",
        "plt.bar(l, people, color='orange')\n",
        "plt.show()"
      ],
      "execution_count": null,
      "outputs": [
        {
          "output_type": "display_data",
          "data": {
            "image/png": "[encoded data removed]",
            "text/plain": [
              "<Figure size 432x288 with 1 Axes>"
            ]
          },
          "metadata": {
            "needs_background": "light"
          }
        }
      ]
    },
    {
      "cell_type": "code",
      "metadata": {
        "colab": {
          "base_uri": "https://localhost:8080/"
        },
        "id": "hbBBwKgxu9Kv",
        "outputId": "af6e27de-6562-4d17-9980-af6f3033d220"
      },
      "source": [
        "people = 672, 201, 184, 42,52, 15,44, 8\n",
        "ratioOcc = 201/672 *100\n",
        "ratioOf = 42/184 *100\n",
        "ratioVery = 15/52 *100\n",
        "ratioAlwa = 8/44 *100\n",
        "print(ratioOcc)\n",
        "print(ratioOf)\n",
        "print(ratioVery)\n",
        "print(ratioAlwa)"
      ],
      "execution_count": null,
      "outputs": [
        {
          "output_type": "stream",
          "name": "stdout",
          "text": [
            "29.910714285714285\n",
            "22.82608695652174\n",
            "28.846153846153843\n",
            "18.181818181818183\n"
          ]
        }
      ]
    },
    {
      "cell_type": "markdown",
      "metadata": {
        "id": "T3TO6dVeuf3G"
      },
      "source": [
        "Analysis:\n",
        "\n",
        "After looking at both the chart it is clear that people who eats junkfood occasionally are more diabetic than other group of people who eats junkfood often or very often or always."
      ]
    },
    {
      "cell_type": "code",
      "metadata": {
        "colab": {
          "base_uri": "https://localhost:8080/"
        },
        "id": "hNvJy-Yoceoo",
        "outputId": "dadd7eaa-3d89-482e-f101-3d9d69062dca"
      },
      "source": [
        "df.BMI"
      ],
      "execution_count": null,
      "outputs": [
        {
          "output_type": "execute_result",
          "data": {
            "text/plain": [
              "0      39.0\n",
              "1      28.0\n",
              "2      24.0\n",
              "3      23.0\n",
              "4      27.0\n",
              "       ... \n",
              "947    25.0\n",
              "948    27.0\n",
              "949    23.0\n",
              "950    27.0\n",
              "951    30.0\n",
              "Name: BMI, Length: 952, dtype: float64"
            ]
          },
          "metadata": {},
          "execution_count": 33
        }
      ]
    },
    {
      "cell_type": "markdown",
      "metadata": {
        "id": "uNsOvj5mcyFT"
      },
      "source": [
        "Normal BMI level in a person is between 18.5 to 24.9. So, we will see how BMI is related to diabetes below."
      ]
    },
    {
      "cell_type": "code",
      "metadata": {
        "colab": {
          "base_uri": "https://localhost:8080/"
        },
        "id": "YrvzWNU9c_vU",
        "outputId": "aa11c9b3-f451-4fee-d3e0-c15f320f3013"
      },
      "source": [
        "#getting the unhealthy BMI values\n",
        "df[\"BMI\"].value_counts()\n"
      ],
      "execution_count": null,
      "outputs": [
        {
          "output_type": "execute_result",
          "data": {
            "text/plain": [
              "24.0    111\n",
              "21.0     88\n",
              "23.0     76\n",
              "28.0     71\n",
              "26.0     66\n",
              "33.0     64\n",
              "27.0     63\n",
              "22.0     58\n",
              "20.0     48\n",
              "19.0     36\n",
              "25.0     34\n",
              "30.0     33\n",
              "18.0     32\n",
              "29.0     28\n",
              "38.0     28\n",
              "36.0     20\n",
              "31.0     16\n",
              "17.0     16\n",
              "32.0     16\n",
              "34.0     12\n",
              "35.0     12\n",
              "15.0      8\n",
              "39.0      4\n",
              "40.0      4\n",
              "42.0      3\n",
              "45.0      1\n",
              "Name: BMI, dtype: int64"
            ]
          },
          "metadata": {},
          "execution_count": 34
        }
      ]
    },
    {
      "cell_type": "code",
      "metadata": {
        "colab": {
          "base_uri": "https://localhost:8080/",
          "height": 694
        },
        "id": "F1LU1M_Adcqw",
        "outputId": "4a77e509-2083-48e0-e673-13f43f17d5b9"
      },
      "source": [
        "HighBMI= df[(df.BMI > 24.9)]\n",
        "LowBMI = df[(df.BMI < 18.5)]\n",
        "normalBMI =  df[(df.BMI.between(18.5, 24.9))]\n",
        "# we divided the dataset among people who have high bmi vs people with low bmi\n",
        "HighBMI"
      ],
      "execution_count": null,
      "outputs": [
        {
          "output_type": "execute_result",
          "data": {
            "text/html": [
              "<div>\n",
              "<style scoped>\n",
              "    .dataframe tbody tr th:only-of-type {\n",
              "        vertical-align: middle;\n",
              "    }\n",
              "\n",
              "    .dataframe tbody tr th {\n",
              "        vertical-align: top;\n",
              "    }\n",
              "\n",
              "    .dataframe thead th {\n",
              "        text-align: right;\n",
              "    }\n",
              "</style>\n",
              "<table border=\"1\" class=\"dataframe\">\n",
              "  <thead>\n",
              "    <tr style=\"text-align: right;\">\n",
              "      <th></th>\n",
              "      <th>Age</th>\n",
              "      <th>Gender</th>\n",
              "      <th>Family_Diabetes</th>\n",
              "      <th>highBP</th>\n",
              "      <th>PhysicallyActive</th>\n",
              "      <th>BMI</th>\n",
              "      <th>Smoking</th>\n",
              "      <th>Alcohol</th>\n",
              "      <th>Sleep</th>\n",
              "      <th>SoundSleep</th>\n",
              "      <th>RegularMedicine</th>\n",
              "      <th>JunkFood</th>\n",
              "      <th>Stress</th>\n",
              "      <th>BPLevel</th>\n",
              "      <th>Pregancies</th>\n",
              "      <th>Pdiabetes</th>\n",
              "      <th>UriationFreq</th>\n",
              "      <th>Diabetic</th>\n",
              "    </tr>\n",
              "  </thead>\n",
              "  <tbody>\n",
              "    <tr>\n",
              "      <th>0</th>\n",
              "      <td>50-59</td>\n",
              "      <td>Male</td>\n",
              "      <td>no</td>\n",
              "      <td>yes</td>\n",
              "      <td>one hr or more</td>\n",
              "      <td>39.0</td>\n",
              "      <td>no</td>\n",
              "      <td>no</td>\n",
              "      <td>8</td>\n",
              "      <td>6</td>\n",
              "      <td>no</td>\n",
              "      <td>occasionally</td>\n",
              "      <td>sometimes</td>\n",
              "      <td>high</td>\n",
              "      <td>0.0</td>\n",
              "      <td>0</td>\n",
              "      <td>not much</td>\n",
              "      <td>no</td>\n",
              "    </tr>\n",
              "    <tr>\n",
              "      <th>1</th>\n",
              "      <td>50-59</td>\n",
              "      <td>Male</td>\n",
              "      <td>no</td>\n",
              "      <td>yes</td>\n",
              "      <td>less than half an hr</td>\n",
              "      <td>28.0</td>\n",
              "      <td>no</td>\n",
              "      <td>no</td>\n",
              "      <td>8</td>\n",
              "      <td>6</td>\n",
              "      <td>yes</td>\n",
              "      <td>very often</td>\n",
              "      <td>sometimes</td>\n",
              "      <td>normal</td>\n",
              "      <td>0.0</td>\n",
              "      <td>0</td>\n",
              "      <td>not much</td>\n",
              "      <td>no</td>\n",
              "    </tr>\n",
              "    <tr>\n",
              "      <th>4</th>\n",
              "      <td>40-49</td>\n",
              "      <td>Male</td>\n",
              "      <td>no</td>\n",
              "      <td>no</td>\n",
              "      <td>less than half an hr</td>\n",
              "      <td>27.0</td>\n",
              "      <td>no</td>\n",
              "      <td>no</td>\n",
              "      <td>8</td>\n",
              "      <td>8</td>\n",
              "      <td>no</td>\n",
              "      <td>occasionally</td>\n",
              "      <td>sometimes</td>\n",
              "      <td>normal</td>\n",
              "      <td>0.0</td>\n",
              "      <td>0</td>\n",
              "      <td>not much</td>\n",
              "      <td>no</td>\n",
              "    </tr>\n",
              "    <tr>\n",
              "      <th>11</th>\n",
              "      <td>40-49</td>\n",
              "      <td>Male</td>\n",
              "      <td>no</td>\n",
              "      <td>no</td>\n",
              "      <td>less than half an hr</td>\n",
              "      <td>26.0</td>\n",
              "      <td>yes</td>\n",
              "      <td>no</td>\n",
              "      <td>8</td>\n",
              "      <td>7</td>\n",
              "      <td>no</td>\n",
              "      <td>occasionally</td>\n",
              "      <td>sometimes</td>\n",
              "      <td>normal</td>\n",
              "      <td>0.0</td>\n",
              "      <td>0</td>\n",
              "      <td>not much</td>\n",
              "      <td>no</td>\n",
              "    </tr>\n",
              "    <tr>\n",
              "      <th>15</th>\n",
              "      <td>40-49</td>\n",
              "      <td>Female</td>\n",
              "      <td>yes</td>\n",
              "      <td>no</td>\n",
              "      <td>none</td>\n",
              "      <td>34.0</td>\n",
              "      <td>no</td>\n",
              "      <td>no</td>\n",
              "      <td>6</td>\n",
              "      <td>6</td>\n",
              "      <td>no</td>\n",
              "      <td>occasionally</td>\n",
              "      <td>sometimes</td>\n",
              "      <td>normal</td>\n",
              "      <td>3.0</td>\n",
              "      <td>0</td>\n",
              "      <td>not much</td>\n",
              "      <td>no</td>\n",
              "    </tr>\n",
              "    <tr>\n",
              "      <th>...</th>\n",
              "      <td>...</td>\n",
              "      <td>...</td>\n",
              "      <td>...</td>\n",
              "      <td>...</td>\n",
              "      <td>...</td>\n",
              "      <td>...</td>\n",
              "      <td>...</td>\n",
              "      <td>...</td>\n",
              "      <td>...</td>\n",
              "      <td>...</td>\n",
              "      <td>...</td>\n",
              "      <td>...</td>\n",
              "      <td>...</td>\n",
              "      <td>...</td>\n",
              "      <td>...</td>\n",
              "      <td>...</td>\n",
              "      <td>...</td>\n",
              "      <td>...</td>\n",
              "    </tr>\n",
              "    <tr>\n",
              "      <th>945</th>\n",
              "      <td>less than 40</td>\n",
              "      <td>Male</td>\n",
              "      <td>no</td>\n",
              "      <td>no</td>\n",
              "      <td>less than half an hr</td>\n",
              "      <td>30.0</td>\n",
              "      <td>no</td>\n",
              "      <td>yes</td>\n",
              "      <td>8</td>\n",
              "      <td>8</td>\n",
              "      <td>yes</td>\n",
              "      <td>occasionally</td>\n",
              "      <td>sometimes</td>\n",
              "      <td>normal</td>\n",
              "      <td>0.0</td>\n",
              "      <td>0</td>\n",
              "      <td>not much</td>\n",
              "      <td>yes</td>\n",
              "    </tr>\n",
              "    <tr>\n",
              "      <th>947</th>\n",
              "      <td>less than 40</td>\n",
              "      <td>Male</td>\n",
              "      <td>yes</td>\n",
              "      <td>no</td>\n",
              "      <td>more than half an hr</td>\n",
              "      <td>25.0</td>\n",
              "      <td>no</td>\n",
              "      <td>no</td>\n",
              "      <td>8</td>\n",
              "      <td>6</td>\n",
              "      <td>no</td>\n",
              "      <td>often</td>\n",
              "      <td>sometimes</td>\n",
              "      <td>normal</td>\n",
              "      <td>0.0</td>\n",
              "      <td>0</td>\n",
              "      <td>not much</td>\n",
              "      <td>yes</td>\n",
              "    </tr>\n",
              "    <tr>\n",
              "      <th>948</th>\n",
              "      <td>60 or older</td>\n",
              "      <td>Male</td>\n",
              "      <td>yes</td>\n",
              "      <td>yes</td>\n",
              "      <td>more than half an hr</td>\n",
              "      <td>27.0</td>\n",
              "      <td>no</td>\n",
              "      <td>no</td>\n",
              "      <td>6</td>\n",
              "      <td>5</td>\n",
              "      <td>yes</td>\n",
              "      <td>occasionally</td>\n",
              "      <td>sometimes</td>\n",
              "      <td>high</td>\n",
              "      <td>0.0</td>\n",
              "      <td>0</td>\n",
              "      <td>quite often</td>\n",
              "      <td>yes</td>\n",
              "    </tr>\n",
              "    <tr>\n",
              "      <th>950</th>\n",
              "      <td>60 or older</td>\n",
              "      <td>Male</td>\n",
              "      <td>no</td>\n",
              "      <td>yes</td>\n",
              "      <td>less than half an hr</td>\n",
              "      <td>27.0</td>\n",
              "      <td>no</td>\n",
              "      <td>yes</td>\n",
              "      <td>6</td>\n",
              "      <td>5</td>\n",
              "      <td>yes</td>\n",
              "      <td>occasionally</td>\n",
              "      <td>very often</td>\n",
              "      <td>high</td>\n",
              "      <td>0.0</td>\n",
              "      <td>0</td>\n",
              "      <td>not much</td>\n",
              "      <td>no</td>\n",
              "    </tr>\n",
              "    <tr>\n",
              "      <th>951</th>\n",
              "      <td>60 or older</td>\n",
              "      <td>Female</td>\n",
              "      <td>yes</td>\n",
              "      <td>yes</td>\n",
              "      <td>one hr or more</td>\n",
              "      <td>30.0</td>\n",
              "      <td>no</td>\n",
              "      <td>no</td>\n",
              "      <td>7</td>\n",
              "      <td>4</td>\n",
              "      <td>yes</td>\n",
              "      <td>occasionally</td>\n",
              "      <td>sometimes</td>\n",
              "      <td>high</td>\n",
              "      <td>2.0</td>\n",
              "      <td>0</td>\n",
              "      <td>quite often</td>\n",
              "      <td>yes</td>\n",
              "    </tr>\n",
              "  </tbody>\n",
              "</table>\n",
              "<p>475 rows × 18 columns</p>\n",
              "</div>"
            ],
            "text/plain": [
              "              Age  Gender Family_Diabetes  ... Pdiabetes UriationFreq  Diabetic\n",
              "0           50-59    Male              no  ...         0     not much        no\n",
              "1           50-59    Male              no  ...         0     not much        no\n",
              "4           40-49    Male              no  ...         0     not much        no\n",
              "11          40-49    Male              no  ...         0     not much        no\n",
              "15          40-49  Female             yes  ...         0     not much        no\n",
              "..            ...     ...             ...  ...       ...          ...       ...\n",
              "945  less than 40    Male              no  ...         0     not much       yes\n",
              "947  less than 40    Male             yes  ...         0     not much       yes\n",
              "948   60 or older    Male             yes  ...         0  quite often       yes\n",
              "950   60 or older    Male              no  ...         0     not much        no\n",
              "951   60 or older  Female             yes  ...         0  quite often       yes\n",
              "\n",
              "[475 rows x 18 columns]"
            ]
          },
          "metadata": {},
          "execution_count": 35
        }
      ]
    },
    {
      "cell_type": "markdown",
      "metadata": {
        "id": "RD_2uP3Ce53a"
      },
      "source": [
        "We divided the dataset among people who have high bmi vs people with low bmi. Now we will examine each set of people with their daibetes problem. We will see how diabetic they are."
      ]
    },
    {
      "cell_type": "code",
      "metadata": {
        "colab": {
          "base_uri": "https://localhost:8080/"
        },
        "id": "t2xeL3ZVfnut",
        "outputId": "826a936b-74f0-47cf-f69b-4bd4288bf2ae"
      },
      "source": [
        "HighBMI.info()\n",
        "LowBMI.info()\n",
        "normalBMI.info()"
      ],
      "execution_count": null,
      "outputs": [
        {
          "output_type": "stream",
          "name": "stdout",
          "text": [
            "<class 'pandas.core.frame.DataFrame'>\n",
            "Int64Index: 475 entries, 0 to 951\n",
            "Data columns (total 18 columns):\n",
            " #   Column            Non-Null Count  Dtype  \n",
            "---  ------            --------------  -----  \n",
            " 0   Age               475 non-null    object \n",
            " 1   Gender            475 non-null    object \n",
            " 2   Family_Diabetes   475 non-null    object \n",
            " 3   highBP            475 non-null    object \n",
            " 4   PhysicallyActive  475 non-null    object \n",
            " 5   BMI               475 non-null    float64\n",
            " 6   Smoking           475 non-null    object \n",
            " 7   Alcohol           475 non-null    object \n",
            " 8   Sleep             475 non-null    int64  \n",
            " 9   SoundSleep        475 non-null    int64  \n",
            " 10  RegularMedicine   475 non-null    object \n",
            " 11  JunkFood          475 non-null    object \n",
            " 12  Stress            475 non-null    object \n",
            " 13  BPLevel           475 non-null    object \n",
            " 14  Pregancies        439 non-null    float64\n",
            " 15  Pdiabetes         475 non-null    object \n",
            " 16  UriationFreq      475 non-null    object \n",
            " 17  Diabetic          475 non-null    object \n",
            "dtypes: float64(2), int64(2), object(14)\n",
            "memory usage: 70.5+ KB\n",
            "<class 'pandas.core.frame.DataFrame'>\n",
            "Int64Index: 56 entries, 14 to 932\n",
            "Data columns (total 18 columns):\n",
            " #   Column            Non-Null Count  Dtype  \n",
            "---  ------            --------------  -----  \n",
            " 0   Age               56 non-null     object \n",
            " 1   Gender            56 non-null     object \n",
            " 2   Family_Diabetes   56 non-null     object \n",
            " 3   highBP            56 non-null     object \n",
            " 4   PhysicallyActive  56 non-null     object \n",
            " 5   BMI               56 non-null     float64\n",
            " 6   Smoking           56 non-null     object \n",
            " 7   Alcohol           56 non-null     object \n",
            " 8   Sleep             56 non-null     int64  \n",
            " 9   SoundSleep        56 non-null     int64  \n",
            " 10  RegularMedicine   56 non-null     object \n",
            " 11  JunkFood          56 non-null     object \n",
            " 12  Stress            56 non-null     object \n",
            " 13  BPLevel           56 non-null     object \n",
            " 14  Pregancies        56 non-null     float64\n",
            " 15  Pdiabetes         56 non-null     object \n",
            " 16  UriationFreq      56 non-null     object \n",
            " 17  Diabetic          56 non-null     object \n",
            "dtypes: float64(2), int64(2), object(14)\n",
            "memory usage: 8.3+ KB\n",
            "<class 'pandas.core.frame.DataFrame'>\n",
            "Int64Index: 417 entries, 2 to 949\n",
            "Data columns (total 18 columns):\n",
            " #   Column            Non-Null Count  Dtype  \n",
            "---  ------            --------------  -----  \n",
            " 0   Age               417 non-null    object \n",
            " 1   Gender            417 non-null    object \n",
            " 2   Family_Diabetes   417 non-null    object \n",
            " 3   highBP            417 non-null    object \n",
            " 4   PhysicallyActive  417 non-null    object \n",
            " 5   BMI               417 non-null    float64\n",
            " 6   Smoking           417 non-null    object \n",
            " 7   Alcohol           417 non-null    object \n",
            " 8   Sleep             417 non-null    int64  \n",
            " 9   SoundSleep        417 non-null    int64  \n",
            " 10  RegularMedicine   417 non-null    object \n",
            " 11  JunkFood          417 non-null    object \n",
            " 12  Stress            417 non-null    object \n",
            " 13  BPLevel           417 non-null    object \n",
            " 14  Pregancies        411 non-null    float64\n",
            " 15  Pdiabetes         416 non-null    object \n",
            " 16  UriationFreq      417 non-null    object \n",
            " 17  Diabetic          417 non-null    object \n",
            "dtypes: float64(2), int64(2), object(14)\n",
            "memory usage: 61.9+ KB\n"
          ]
        }
      ]
    },
    {
      "cell_type": "markdown",
      "metadata": {
        "id": "pl4r_-I3gPCE"
      },
      "source": [
        "475 people have high BMI. 56 people have low BMI. And 417 people have normal BMI out of 952 people respectively.\n"
      ]
    },
    {
      "cell_type": "code",
      "metadata": {
        "colab": {
          "base_uri": "https://localhost:8080/",
          "height": 371
        },
        "id": "BA6h3st8s6bt",
        "outputId": "8ca06c32-10d5-4f13-dfa1-986badb4c400"
      },
      "source": [
        "#pie chart to show people with different BMI level\n",
        "plt.title(\"People with different BMI level\")\n",
        "y = np.array([475, 56, 417])\n",
        "mylabels = ['people with High BMI level', 'people with low BMI level', 'people with normal BMI level']\n",
        "plt.pie(y, labels = mylabels, radius=1.7)\n",
        "\n",
        "plt.show() \n"
      ],
      "execution_count": null,
      "outputs": [
        {
          "output_type": "display_data",
          "data": {
            "image/png": "[encoded data removed]",
            "text/plain": [
              "<Figure size 432x288 with 1 Axes>"
            ]
          },
          "metadata": {}
        }
      ]
    },
    {
      "cell_type": "code",
      "metadata": {
        "colab": {
          "base_uri": "https://localhost:8080/"
        },
        "id": "5Q9sKRGBhv96",
        "outputId": "f0571dd4-7e8d-4699-b4af-58bd5eca12ea"
      },
      "source": [
        "high= df[(df.BMI > 24.9) & (df.Diabetic == 'yes')]\n",
        "print(high.shape[0])"
      ],
      "execution_count": null,
      "outputs": [
        {
          "output_type": "stream",
          "name": "stdout",
          "text": [
            "155\n"
          ]
        }
      ]
    },
    {
      "cell_type": "code",
      "metadata": {
        "colab": {
          "base_uri": "https://localhost:8080/"
        },
        "id": "s5BEqoL2i1Nq",
        "outputId": "c41f69af-e09c-4a1a-efe9-972f3a068cd5"
      },
      "source": [
        "ratioHigh= 155/475*100\n",
        "ratioHigh"
      ],
      "execution_count": null,
      "outputs": [
        {
          "output_type": "execute_result",
          "data": {
            "text/plain": [
              "32.631578947368425"
            ]
          },
          "metadata": {},
          "execution_count": 39
        }
      ]
    },
    {
      "cell_type": "markdown",
      "metadata": {
        "id": "_o-Dqjlph7-r"
      },
      "source": [
        "We see that out of 475 people who have high BMI 155 people have diabetes. 32.63% people who have high BMI have diabetes. So, we see that high BMI can cause diabetes."
      ]
    },
    {
      "cell_type": "code",
      "metadata": {
        "colab": {
          "base_uri": "https://localhost:8080/"
        },
        "id": "vpLMWLM8iOle",
        "outputId": "d6c00642-cd52-4f0b-e06d-ef0b7418da02"
      },
      "source": [
        "low= df[(df.BMI < 18.5) & (df.Diabetic == 'yes')]\n",
        "print(low.shape[0])"
      ],
      "execution_count": null,
      "outputs": [
        {
          "output_type": "stream",
          "name": "stdout",
          "text": [
            "8\n"
          ]
        }
      ]
    },
    {
      "cell_type": "code",
      "metadata": {
        "colab": {
          "base_uri": "https://localhost:8080/"
        },
        "id": "icrAZD6Co7Fw",
        "outputId": "1b8e07d3-9ce6-483f-d400-0b024f155a3c"
      },
      "source": [
        "ratioLow = 8/56*100\n",
        "ratioLow"
      ],
      "execution_count": null,
      "outputs": [
        {
          "output_type": "execute_result",
          "data": {
            "text/plain": [
              "14.285714285714285"
            ]
          },
          "metadata": {},
          "execution_count": 41
        }
      ]
    },
    {
      "cell_type": "markdown",
      "metadata": {
        "id": "6xAXKWR3iUxK"
      },
      "source": [
        "We see that out of 56 people who have low BMI 8 people have diabetes. 14.29% people who have low BMI have diabetes. So, we see that low BMI can cause diabetes but the percentage is lower than people with high BMI."
      ]
    },
    {
      "cell_type": "code",
      "metadata": {
        "id": "qTCTW_YZgBjb",
        "colab": {
          "base_uri": "https://localhost:8080/"
        },
        "outputId": "3f0f1a18-57cb-49f1-ec04-42f53fdb5a43"
      },
      "source": [
        "normal= df[(df.BMI.between(18.5, 24.9)) & (df.Diabetic == 'yes')]\n",
        "print(normal.shape[0])"
      ],
      "execution_count": null,
      "outputs": [
        {
          "output_type": "stream",
          "name": "stdout",
          "text": [
            "102\n"
          ]
        }
      ]
    },
    {
      "cell_type": "code",
      "metadata": {
        "colab": {
          "base_uri": "https://localhost:8080/"
        },
        "id": "w8rXTfFep79a",
        "outputId": "dfeb5cf7-5126-4fab-b7a4-20981c1600d5"
      },
      "source": [
        "noramlRatio = 102/417*100\n",
        "noramlRatio"
      ],
      "execution_count": null,
      "outputs": [
        {
          "output_type": "execute_result",
          "data": {
            "text/plain": [
              "24.46043165467626"
            ]
          },
          "metadata": {},
          "execution_count": 43
        }
      ]
    },
    {
      "cell_type": "code",
      "metadata": {
        "colab": {
          "base_uri": "https://localhost:8080/",
          "height": 322
        },
        "id": "aGpFMGWNqkLh",
        "outputId": "5abc464d-0fdc-43a0-d72d-c77ff836d544"
      },
      "source": [
        "#pie chart to show diabetic people with different BMI level \n",
        "y = np.array([155, 8, 102])\n",
        "mylabels = ['Diabetic people with High BMI level', 'Diabetic people with low BMI level', 'Diabetic people with normal BMI level']\n",
        "\n",
        "plt.pie(y, labels = mylabels, radius=1.5)\n",
        "plt.title(\"Diabetic people with different BMI level\")\n",
        "plt.rcParams['font.size'] = 18\n",
        "\n",
        "plt.show() "
      ],
      "execution_count": null,
      "outputs": [
        {
          "output_type": "display_data",
          "data": {
            "image/png": "[encoded data removed]",
            "text/plain": [
              "<Figure size 432x288 with 1 Axes>"
            ]
          },
          "metadata": {}
        }
      ]
    },
    {
      "cell_type": "markdown",
      "metadata": {
        "id": "TjMgn-aAqOqE"
      },
      "source": [
        "We see that out of 417 people who have normal diabetes 102 people have diabetes which is little strange because the people with low BMI have a lower percentage of getting diabetes. I thought people with normal BMI will have a lower percentage of getting diabetes than other two groups which is high BMI level people and low BMI level people.\n"
      ]
    },
    {
      "cell_type": "code",
      "metadata": {
        "colab": {
          "base_uri": "https://localhost:8080/",
          "height": 809
        },
        "id": "5e23AZHwvBaN",
        "outputId": "eb5add81-874f-4892-b82c-7e6d4838e99b"
      },
      "source": [
        "#we will see people with different BMI level \n",
        "fig = plt.figure()\n",
        "ax = fig.add_axes([0,0,3,3])\n",
        "l = ['people with High BMI level', 'people with low BMI level', 'people with normal BMI level']\n",
        "people = [475, 56, 417 ]\n",
        "plt.bar(l, people, color='red')\n",
        "plt.title(\"people with different BMI level \")\n",
        "plt.show()"
      ],
      "execution_count": null,
      "outputs": [
        {
          "output_type": "display_data",
          "data": {
            "image/png": "[encoded data removed]",
            "text/plain": [
              "<Figure size 432x288 with 1 Axes>"
            ]
          },
          "metadata": {
            "needs_background": "light"
          }
        }
      ]
    },
    {
      "cell_type": "code",
      "metadata": {
        "colab": {
          "base_uri": "https://localhost:8080/",
          "height": 809
        },
        "id": "fbOkb9gJvrLP",
        "outputId": "9dda353a-eb3f-4aca-d636-036da1efbb6d"
      },
      "source": [
        "#Diabetic people with different bmi level\n",
        "fig = plt.figure()\n",
        "ax = fig.add_axes([0,0,3,3])\n",
        "l = ['people with High BMI level', 'people with low BMI level', 'people with normal BMI level']\n",
        "people = [155,8,102 ]\n",
        "plt.bar(l, people, color='red')\n",
        "plt.title(\"Diabetic people with different BMI level \")\n",
        "plt.show()\n"
      ],
      "execution_count": null,
      "outputs": [
        {
          "output_type": "display_data",
          "data": {
            "image/png": "[encoded data removed]",
            "text/plain": [
              "<Figure size 432x288 with 1 Axes>"
            ]
          },
          "metadata": {
            "needs_background": "light"
          }
        }
      ]
    },
    {
      "cell_type": "code",
      "metadata": {
        "colab": {
          "base_uri": "https://localhost:8080/",
          "height": 948
        },
        "id": "2II0zWsgu1V-",
        "outputId": "ebd94e0a-ca68-40d5-8821-d7a1f7bbdb1d"
      },
      "source": [
        "#we will see how BMI level is related to diabetes\n",
        "fig = plt.figure()\n",
        "ax = fig.add_axes([0,0,3,3])\n",
        "l = ['people with High BMI level', 'people with High BMI level with diabetes', 'people with low BMI level', 'people with High low level with diabetes', 'people with normal BMI level', 'people with normal BMI level with diabetes' ]\n",
        "people = [475, 155, 56, 8, 417, 102 ]\n",
        "plt.bar(l, people, color='red')\n",
        "plt.title(\"How BMI level is related to diabetes\")\n",
        "plt.show()"
      ],
      "execution_count": null,
      "outputs": [
        {
          "output_type": "display_data",
          "data": {
            "image/png": "[encoded data removed]",
            "text/plain": [
              "<Figure size 432x288 with 1 Axes>"
            ]
          },
          "metadata": {
            "needs_background": "light"
          }
        }
      ]
    },
    {
      "cell_type": "code",
      "metadata": {
        "colab": {
          "base_uri": "https://localhost:8080/"
        },
        "id": "_xhibCPnxIde",
        "outputId": "d2f861cd-5207-48fd-f70f-13331dec2bb5"
      },
      "source": [
        "#relationship between bmi smoke and diabetes\n",
        "data1= df[(df.BMI.between(18.5, 24.9)) & (df.Diabetic == 'yes')  & (df.Sleep > 8) ]\n",
        "print(data1.shape[0])\n"
      ],
      "execution_count": null,
      "outputs": [
        {
          "output_type": "stream",
          "name": "stdout",
          "text": [
            "12\n"
          ]
        }
      ]
    },
    {
      "cell_type": "code",
      "metadata": {
        "colab": {
          "base_uri": "https://localhost:8080/"
        },
        "id": "ayzOex7QyX4_",
        "outputId": "42b812f1-2e9a-4182-99b6-999bcabc04a0"
      },
      "source": [
        "data2 = df[(df.BMI.between(18.5, 24.9)) & (df.Diabetic == 'yes')  & (df.Sleep < 8) ]\n",
        "print(data2.shape[0])"
      ],
      "execution_count": null,
      "outputs": [
        {
          "output_type": "stream",
          "name": "stdout",
          "text": [
            "58\n"
          ]
        }
      ]
    },
    {
      "cell_type": "markdown",
      "metadata": {
        "id": "2lyrKf22yFM_"
      },
      "source": [
        "From the above data we see that people who sleep over 8 hours and have normal BMI are less diabetic but people who get less than 8 hours of sleep are more diabetic.\n"
      ]
    },
    {
      "cell_type": "code",
      "metadata": {
        "id": "7N8GGqKLI8Rx"
      },
      "source": [
        "#tanudataset.Diabetic.unique()\n",
        "#DiabeticwithoutNAN = tanudataset.Diabetic.dropna()"
      ],
      "execution_count": null,
      "outputs": []
    },
    {
      "cell_type": "code",
      "metadata": {
        "id": "Z7ru4pbGJf3_"
      },
      "source": [
        "#DiabeticwithoutNAN.unique()"
      ],
      "execution_count": null,
      "outputs": []
    },
    {
      "cell_type": "code",
      "metadata": {
        "id": "U85IjLmANO0G"
      },
      "source": [
        ""
      ],
      "execution_count": null,
      "outputs": []
    },
    {
      "cell_type": "code",
      "metadata": {
        "id": "cGc7DB3gKdnF",
        "colab": {
          "base_uri": "https://localhost:8080/"
        },
        "outputId": "568f5c18-1f4f-4453-e366-8919b27cc35b"
      },
      "source": [
        "#print(tanudataset[tanudataset['Diabetic']==' no'].index.values)\n",
        "df1 = df.copy()\n",
        "df1 = df1.dropna()\n",
        "df1\n",
        "df1.Diabetic = df1.Diabetic.apply(lambda x: x.strip())\n",
        "df1.Diabetic.unique()"
      ],
      "execution_count": null,
      "outputs": [
        {
          "output_type": "execute_result",
          "data": {
            "text/plain": [
              "array(['no', 'yes'], dtype=object)"
            ]
          },
          "metadata": {},
          "execution_count": 48
        }
      ]
    },
    {
      "cell_type": "code",
      "metadata": {
        "colab": {
          "base_uri": "https://localhost:8080/",
          "height": 419
        },
        "id": "QQEw_jtLdkyL",
        "outputId": "fc3887bf-c7f1-47cc-cac5-46b167bfac19"
      },
      "source": [
        "tanudataset.dropna(inplace=True)\n",
        "tanudataset"
      ],
      "execution_count": null,
      "outputs": [
        {
          "output_type": "execute_result",
          "data": {
            "text/html": [
              "<div>\n",
              "<style scoped>\n",
              "    .dataframe tbody tr th:only-of-type {\n",
              "        vertical-align: middle;\n",
              "    }\n",
              "\n",
              "    .dataframe tbody tr th {\n",
              "        vertical-align: top;\n",
              "    }\n",
              "\n",
              "    .dataframe thead th {\n",
              "        text-align: right;\n",
              "    }\n",
              "</style>\n",
              "<table border=\"1\" class=\"dataframe\">\n",
              "  <thead>\n",
              "    <tr style=\"text-align: right;\">\n",
              "      <th></th>\n",
              "      <th>Age</th>\n",
              "      <th>Gender</th>\n",
              "      <th>BMI</th>\n",
              "      <th>Smoking</th>\n",
              "      <th>Sleep</th>\n",
              "      <th>JunkFood</th>\n",
              "      <th>Diabetic</th>\n",
              "    </tr>\n",
              "  </thead>\n",
              "  <tbody>\n",
              "    <tr>\n",
              "      <th>0</th>\n",
              "      <td>50-59</td>\n",
              "      <td>Male</td>\n",
              "      <td>39.0</td>\n",
              "      <td>no</td>\n",
              "      <td>8</td>\n",
              "      <td>occasionally</td>\n",
              "      <td>no</td>\n",
              "    </tr>\n",
              "    <tr>\n",
              "      <th>1</th>\n",
              "      <td>50-59</td>\n",
              "      <td>Male</td>\n",
              "      <td>28.0</td>\n",
              "      <td>no</td>\n",
              "      <td>8</td>\n",
              "      <td>very often</td>\n",
              "      <td>no</td>\n",
              "    </tr>\n",
              "    <tr>\n",
              "      <th>2</th>\n",
              "      <td>40-49</td>\n",
              "      <td>Male</td>\n",
              "      <td>24.0</td>\n",
              "      <td>no</td>\n",
              "      <td>6</td>\n",
              "      <td>occasionally</td>\n",
              "      <td>no</td>\n",
              "    </tr>\n",
              "    <tr>\n",
              "      <th>3</th>\n",
              "      <td>50-59</td>\n",
              "      <td>Male</td>\n",
              "      <td>23.0</td>\n",
              "      <td>no</td>\n",
              "      <td>8</td>\n",
              "      <td>occasionally</td>\n",
              "      <td>no</td>\n",
              "    </tr>\n",
              "    <tr>\n",
              "      <th>4</th>\n",
              "      <td>40-49</td>\n",
              "      <td>Male</td>\n",
              "      <td>27.0</td>\n",
              "      <td>no</td>\n",
              "      <td>8</td>\n",
              "      <td>occasionally</td>\n",
              "      <td>no</td>\n",
              "    </tr>\n",
              "    <tr>\n",
              "      <th>...</th>\n",
              "      <td>...</td>\n",
              "      <td>...</td>\n",
              "      <td>...</td>\n",
              "      <td>...</td>\n",
              "      <td>...</td>\n",
              "      <td>...</td>\n",
              "      <td>...</td>\n",
              "    </tr>\n",
              "    <tr>\n",
              "      <th>947</th>\n",
              "      <td>less than 40</td>\n",
              "      <td>Male</td>\n",
              "      <td>25.0</td>\n",
              "      <td>no</td>\n",
              "      <td>8</td>\n",
              "      <td>often</td>\n",
              "      <td>yes</td>\n",
              "    </tr>\n",
              "    <tr>\n",
              "      <th>948</th>\n",
              "      <td>60 or older</td>\n",
              "      <td>Male</td>\n",
              "      <td>27.0</td>\n",
              "      <td>no</td>\n",
              "      <td>6</td>\n",
              "      <td>occasionally</td>\n",
              "      <td>yes</td>\n",
              "    </tr>\n",
              "    <tr>\n",
              "      <th>949</th>\n",
              "      <td>60 or older</td>\n",
              "      <td>Male</td>\n",
              "      <td>23.0</td>\n",
              "      <td>no</td>\n",
              "      <td>6</td>\n",
              "      <td>occasionally</td>\n",
              "      <td>no</td>\n",
              "    </tr>\n",
              "    <tr>\n",
              "      <th>950</th>\n",
              "      <td>60 or older</td>\n",
              "      <td>Male</td>\n",
              "      <td>27.0</td>\n",
              "      <td>no</td>\n",
              "      <td>6</td>\n",
              "      <td>occasionally</td>\n",
              "      <td>no</td>\n",
              "    </tr>\n",
              "    <tr>\n",
              "      <th>951</th>\n",
              "      <td>60 or older</td>\n",
              "      <td>Female</td>\n",
              "      <td>30.0</td>\n",
              "      <td>no</td>\n",
              "      <td>7</td>\n",
              "      <td>occasionally</td>\n",
              "      <td>yes</td>\n",
              "    </tr>\n",
              "  </tbody>\n",
              "</table>\n",
              "<p>948 rows × 7 columns</p>\n",
              "</div>"
            ],
            "text/plain": [
              "              Age  Gender   BMI Smoking  Sleep      JunkFood Diabetic\n",
              "0           50-59    Male  39.0      no      8  occasionally       no\n",
              "1           50-59    Male  28.0      no      8    very often       no\n",
              "2           40-49    Male  24.0      no      6  occasionally       no\n",
              "3           50-59    Male  23.0      no      8  occasionally       no\n",
              "4           40-49    Male  27.0      no      8  occasionally       no\n",
              "..            ...     ...   ...     ...    ...           ...      ...\n",
              "947  less than 40    Male  25.0      no      8         often      yes\n",
              "948   60 or older    Male  27.0      no      6  occasionally      yes\n",
              "949   60 or older    Male  23.0      no      6  occasionally       no\n",
              "950   60 or older    Male  27.0      no      6  occasionally       no\n",
              "951   60 or older  Female  30.0      no      7  occasionally      yes\n",
              "\n",
              "[948 rows x 7 columns]"
            ]
          },
          "metadata": {},
          "execution_count": 49
        }
      ]
    },
    {
      "cell_type": "code",
      "metadata": {
        "id": "8moewp7JeRYT"
      },
      "source": [
        "tanudataset.Diabetic = tanudataset.Diabetic.apply(lambda x: x.strip())\n",
        "tanudataset.Gender = tanudataset.Gender.apply(lambda x: x.strip())\n",
        "tanudataset.Smoking = tanudataset.Smoking.apply(lambda x: x.strip())\n"
      ],
      "execution_count": null,
      "outputs": []
    },
    {
      "cell_type": "code",
      "metadata": {
        "colab": {
          "base_uri": "https://localhost:8080/"
        },
        "id": "93BLje5TeE8F",
        "outputId": "18ca18d5-d581-4191-f1a7-4a9e420f9676"
      },
      "source": [
        "tanudataset.Diabetic.unique()"
      ],
      "execution_count": null,
      "outputs": [
        {
          "output_type": "execute_result",
          "data": {
            "text/plain": [
              "array(['no', 'yes'], dtype=object)"
            ]
          },
          "metadata": {},
          "execution_count": 51
        }
      ]
    },
    {
      "cell_type": "code",
      "metadata": {
        "colab": {
          "base_uri": "https://localhost:8080/"
        },
        "id": "KFOUUsM9kupy",
        "outputId": "113d3a50-bd83-487e-8fae-d1c53e036614"
      },
      "source": [
        "tanudataset.Gender.unique()"
      ],
      "execution_count": null,
      "outputs": [
        {
          "output_type": "execute_result",
          "data": {
            "text/plain": [
              "array(['Male', 'Female'], dtype=object)"
            ]
          },
          "metadata": {},
          "execution_count": 52
        }
      ]
    },
    {
      "cell_type": "code",
      "metadata": {
        "colab": {
          "base_uri": "https://localhost:8080/"
        },
        "id": "ETi2ROvqkw-K",
        "outputId": "8aa8626c-f4eb-4463-e461-fe662107e5f1"
      },
      "source": [
        "tanudataset.Smoking.unique()"
      ],
      "execution_count": null,
      "outputs": [
        {
          "output_type": "execute_result",
          "data": {
            "text/plain": [
              "array(['no', 'yes'], dtype=object)"
            ]
          },
          "metadata": {},
          "execution_count": 53
        }
      ]
    },
    {
      "cell_type": "code",
      "metadata": {
        "colab": {
          "base_uri": "https://localhost:8080/"
        },
        "id": "gmeKnEpympOO",
        "outputId": "667c7101-cf2b-431e-fd48-b72933314cba"
      },
      "source": [
        "\n",
        "tanudataset.Diabetic.unique()"
      ],
      "execution_count": null,
      "outputs": [
        {
          "output_type": "execute_result",
          "data": {
            "text/plain": [
              "array(['no', 'yes'], dtype=object)"
            ]
          },
          "metadata": {},
          "execution_count": 54
        }
      ]
    },
    {
      "cell_type": "code",
      "metadata": {
        "colab": {
          "base_uri": "https://localhost:8080/"
        },
        "id": "W8GcQGmAm13o",
        "outputId": "adbbea60-ea29-49ba-cbeb-eef55be23b2a"
      },
      "source": [
        "tanudataset.Diabetic.eq('yes').mul(1)"
      ],
      "execution_count": null,
      "outputs": [
        {
          "output_type": "execute_result",
          "data": {
            "text/plain": [
              "0      0\n",
              "1      0\n",
              "2      0\n",
              "3      0\n",
              "4      0\n",
              "      ..\n",
              "947    1\n",
              "948    1\n",
              "949    0\n",
              "950    0\n",
              "951    1\n",
              "Name: Diabetic, Length: 948, dtype: int64"
            ]
          },
          "metadata": {},
          "execution_count": 55
        }
      ]
    },
    {
      "cell_type": "code",
      "metadata": {
        "colab": {
          "base_uri": "https://localhost:8080/"
        },
        "id": "xZbNurFam8MA",
        "outputId": "391332ab-9d67-44c5-e48f-9d702b7fd6ee"
      },
      "source": [
        "tanudataset.Diabetic.unique()"
      ],
      "execution_count": null,
      "outputs": [
        {
          "output_type": "execute_result",
          "data": {
            "text/plain": [
              "array(['no', 'yes'], dtype=object)"
            ]
          },
          "metadata": {},
          "execution_count": 56
        }
      ]
    },
    {
      "cell_type": "code",
      "metadata": {
        "id": "rgszsCtJfBe1"
      },
      "source": [
        "#convert few column values to numeric values\n",
        "\n"
      ],
      "execution_count": null,
      "outputs": []
    },
    {
      "cell_type": "code",
      "metadata": {
        "id": "JYskX7AVmaKt"
      },
      "source": [
        "tanudataset.Diabetic.unique()"
      ],
      "execution_count": null,
      "outputs": []
    },
    {
      "cell_type": "code",
      "metadata": {
        "colab": {
          "base_uri": "https://localhost:8080/",
          "height": 419
        },
        "id": "MH-essN6jIsI",
        "outputId": "16a71366-54c2-49a6-eb80-54d529400d89"
      },
      "source": [
        "tanudataset\n"
      ],
      "execution_count": null,
      "outputs": [
        {
          "output_type": "execute_result",
          "data": {
            "text/html": [
              "<div>\n",
              "<style scoped>\n",
              "    .dataframe tbody tr th:only-of-type {\n",
              "        vertical-align: middle;\n",
              "    }\n",
              "\n",
              "    .dataframe tbody tr th {\n",
              "        vertical-align: top;\n",
              "    }\n",
              "\n",
              "    .dataframe thead th {\n",
              "        text-align: right;\n",
              "    }\n",
              "</style>\n",
              "<table border=\"1\" class=\"dataframe\">\n",
              "  <thead>\n",
              "    <tr style=\"text-align: right;\">\n",
              "      <th></th>\n",
              "      <th>Age</th>\n",
              "      <th>Gender</th>\n",
              "      <th>BMI</th>\n",
              "      <th>Smoking</th>\n",
              "      <th>Sleep</th>\n",
              "      <th>JunkFood</th>\n",
              "      <th>Diabetic</th>\n",
              "    </tr>\n",
              "  </thead>\n",
              "  <tbody>\n",
              "    <tr>\n",
              "      <th>0</th>\n",
              "      <td>50-59</td>\n",
              "      <td>Male</td>\n",
              "      <td>39.0</td>\n",
              "      <td>no</td>\n",
              "      <td>8</td>\n",
              "      <td>occasionally</td>\n",
              "      <td>0</td>\n",
              "    </tr>\n",
              "    <tr>\n",
              "      <th>1</th>\n",
              "      <td>50-59</td>\n",
              "      <td>Male</td>\n",
              "      <td>28.0</td>\n",
              "      <td>no</td>\n",
              "      <td>8</td>\n",
              "      <td>very often</td>\n",
              "      <td>0</td>\n",
              "    </tr>\n",
              "    <tr>\n",
              "      <th>2</th>\n",
              "      <td>40-49</td>\n",
              "      <td>Male</td>\n",
              "      <td>24.0</td>\n",
              "      <td>no</td>\n",
              "      <td>6</td>\n",
              "      <td>occasionally</td>\n",
              "      <td>0</td>\n",
              "    </tr>\n",
              "    <tr>\n",
              "      <th>3</th>\n",
              "      <td>50-59</td>\n",
              "      <td>Male</td>\n",
              "      <td>23.0</td>\n",
              "      <td>no</td>\n",
              "      <td>8</td>\n",
              "      <td>occasionally</td>\n",
              "      <td>0</td>\n",
              "    </tr>\n",
              "    <tr>\n",
              "      <th>4</th>\n",
              "      <td>40-49</td>\n",
              "      <td>Male</td>\n",
              "      <td>27.0</td>\n",
              "      <td>no</td>\n",
              "      <td>8</td>\n",
              "      <td>occasionally</td>\n",
              "      <td>0</td>\n",
              "    </tr>\n",
              "    <tr>\n",
              "      <th>...</th>\n",
              "      <td>...</td>\n",
              "      <td>...</td>\n",
              "      <td>...</td>\n",
              "      <td>...</td>\n",
              "      <td>...</td>\n",
              "      <td>...</td>\n",
              "      <td>...</td>\n",
              "    </tr>\n",
              "    <tr>\n",
              "      <th>947</th>\n",
              "      <td>less than 40</td>\n",
              "      <td>Male</td>\n",
              "      <td>25.0</td>\n",
              "      <td>no</td>\n",
              "      <td>8</td>\n",
              "      <td>often</td>\n",
              "      <td>1</td>\n",
              "    </tr>\n",
              "    <tr>\n",
              "      <th>948</th>\n",
              "      <td>60 or older</td>\n",
              "      <td>Male</td>\n",
              "      <td>27.0</td>\n",
              "      <td>no</td>\n",
              "      <td>6</td>\n",
              "      <td>occasionally</td>\n",
              "      <td>1</td>\n",
              "    </tr>\n",
              "    <tr>\n",
              "      <th>949</th>\n",
              "      <td>60 or older</td>\n",
              "      <td>Male</td>\n",
              "      <td>23.0</td>\n",
              "      <td>no</td>\n",
              "      <td>6</td>\n",
              "      <td>occasionally</td>\n",
              "      <td>0</td>\n",
              "    </tr>\n",
              "    <tr>\n",
              "      <th>950</th>\n",
              "      <td>60 or older</td>\n",
              "      <td>Male</td>\n",
              "      <td>27.0</td>\n",
              "      <td>no</td>\n",
              "      <td>6</td>\n",
              "      <td>occasionally</td>\n",
              "      <td>0</td>\n",
              "    </tr>\n",
              "    <tr>\n",
              "      <th>951</th>\n",
              "      <td>60 or older</td>\n",
              "      <td>Female</td>\n",
              "      <td>30.0</td>\n",
              "      <td>no</td>\n",
              "      <td>7</td>\n",
              "      <td>occasionally</td>\n",
              "      <td>1</td>\n",
              "    </tr>\n",
              "  </tbody>\n",
              "</table>\n",
              "<p>948 rows × 7 columns</p>\n",
              "</div>"
            ],
            "text/plain": [
              "              Age  Gender   BMI Smoking  Sleep      JunkFood  Diabetic\n",
              "0           50-59    Male  39.0      no      8  occasionally         0\n",
              "1           50-59    Male  28.0      no      8    very often         0\n",
              "2           40-49    Male  24.0      no      6  occasionally         0\n",
              "3           50-59    Male  23.0      no      8  occasionally         0\n",
              "4           40-49    Male  27.0      no      8  occasionally         0\n",
              "..            ...     ...   ...     ...    ...           ...       ...\n",
              "947  less than 40    Male  25.0      no      8         often         1\n",
              "948   60 or older    Male  27.0      no      6  occasionally         1\n",
              "949   60 or older    Male  23.0      no      6  occasionally         0\n",
              "950   60 or older    Male  27.0      no      6  occasionally         0\n",
              "951   60 or older  Female  30.0      no      7  occasionally         1\n",
              "\n",
              "[948 rows x 7 columns]"
            ]
          },
          "metadata": {},
          "execution_count": 59
        }
      ]
    },
    {
      "cell_type": "code",
      "metadata": {
        "colab": {
          "base_uri": "https://localhost:8080/"
        },
        "id": "xxLYB4GMjo88",
        "outputId": "996893ee-d206-4dc9-d1f3-ec179a844136"
      },
      "source": [
        "tanudataset.Diabetic.unique()"
      ],
      "execution_count": null,
      "outputs": [
        {
          "output_type": "execute_result",
          "data": {
            "text/plain": [
              "array([0, 1])"
            ]
          },
          "metadata": {},
          "execution_count": 60
        }
      ]
    },
    {
      "cell_type": "code",
      "metadata": {
        "id": "S6izCYjZhV8z"
      },
      "source": [
        "tanudataset.Smoking.eq('yes').mul(1)\n",
        "tanudataset.Smoking = tanudataset.Smoking.map(dict(yes=1, no=0))"
      ],
      "execution_count": null,
      "outputs": []
    },
    {
      "cell_type": "code",
      "metadata": {
        "colab": {
          "base_uri": "https://localhost:8080/",
          "height": 419
        },
        "id": "FvdXzuxClqUb",
        "outputId": "32fbfbcc-2dd6-4d0c-f478-54c3875341b8"
      },
      "source": [
        "tanudataset"
      ],
      "execution_count": null,
      "outputs": [
        {
          "output_type": "execute_result",
          "data": {
            "text/html": [
              "<div>\n",
              "<style scoped>\n",
              "    .dataframe tbody tr th:only-of-type {\n",
              "        vertical-align: middle;\n",
              "    }\n",
              "\n",
              "    .dataframe tbody tr th {\n",
              "        vertical-align: top;\n",
              "    }\n",
              "\n",
              "    .dataframe thead th {\n",
              "        text-align: right;\n",
              "    }\n",
              "</style>\n",
              "<table border=\"1\" class=\"dataframe\">\n",
              "  <thead>\n",
              "    <tr style=\"text-align: right;\">\n",
              "      <th></th>\n",
              "      <th>Age</th>\n",
              "      <th>Gender</th>\n",
              "      <th>BMI</th>\n",
              "      <th>Smoking</th>\n",
              "      <th>Sleep</th>\n",
              "      <th>JunkFood</th>\n",
              "      <th>Diabetic</th>\n",
              "    </tr>\n",
              "  </thead>\n",
              "  <tbody>\n",
              "    <tr>\n",
              "      <th>0</th>\n",
              "      <td>50-59</td>\n",
              "      <td>Male</td>\n",
              "      <td>39.0</td>\n",
              "      <td>0</td>\n",
              "      <td>8</td>\n",
              "      <td>occasionally</td>\n",
              "      <td>0</td>\n",
              "    </tr>\n",
              "    <tr>\n",
              "      <th>1</th>\n",
              "      <td>50-59</td>\n",
              "      <td>Male</td>\n",
              "      <td>28.0</td>\n",
              "      <td>0</td>\n",
              "      <td>8</td>\n",
              "      <td>very often</td>\n",
              "      <td>0</td>\n",
              "    </tr>\n",
              "    <tr>\n",
              "      <th>2</th>\n",
              "      <td>40-49</td>\n",
              "      <td>Male</td>\n",
              "      <td>24.0</td>\n",
              "      <td>0</td>\n",
              "      <td>6</td>\n",
              "      <td>occasionally</td>\n",
              "      <td>0</td>\n",
              "    </tr>\n",
              "    <tr>\n",
              "      <th>3</th>\n",
              "      <td>50-59</td>\n",
              "      <td>Male</td>\n",
              "      <td>23.0</td>\n",
              "      <td>0</td>\n",
              "      <td>8</td>\n",
              "      <td>occasionally</td>\n",
              "      <td>0</td>\n",
              "    </tr>\n",
              "    <tr>\n",
              "      <th>4</th>\n",
              "      <td>40-49</td>\n",
              "      <td>Male</td>\n",
              "      <td>27.0</td>\n",
              "      <td>0</td>\n",
              "      <td>8</td>\n",
              "      <td>occasionally</td>\n",
              "      <td>0</td>\n",
              "    </tr>\n",
              "    <tr>\n",
              "      <th>...</th>\n",
              "      <td>...</td>\n",
              "      <td>...</td>\n",
              "      <td>...</td>\n",
              "      <td>...</td>\n",
              "      <td>...</td>\n",
              "      <td>...</td>\n",
              "      <td>...</td>\n",
              "    </tr>\n",
              "    <tr>\n",
              "      <th>947</th>\n",
              "      <td>less than 40</td>\n",
              "      <td>Male</td>\n",
              "      <td>25.0</td>\n",
              "      <td>0</td>\n",
              "      <td>8</td>\n",
              "      <td>often</td>\n",
              "      <td>1</td>\n",
              "    </tr>\n",
              "    <tr>\n",
              "      <th>948</th>\n",
              "      <td>60 or older</td>\n",
              "      <td>Male</td>\n",
              "      <td>27.0</td>\n",
              "      <td>0</td>\n",
              "      <td>6</td>\n",
              "      <td>occasionally</td>\n",
              "      <td>1</td>\n",
              "    </tr>\n",
              "    <tr>\n",
              "      <th>949</th>\n",
              "      <td>60 or older</td>\n",
              "      <td>Male</td>\n",
              "      <td>23.0</td>\n",
              "      <td>0</td>\n",
              "      <td>6</td>\n",
              "      <td>occasionally</td>\n",
              "      <td>0</td>\n",
              "    </tr>\n",
              "    <tr>\n",
              "      <th>950</th>\n",
              "      <td>60 or older</td>\n",
              "      <td>Male</td>\n",
              "      <td>27.0</td>\n",
              "      <td>0</td>\n",
              "      <td>6</td>\n",
              "      <td>occasionally</td>\n",
              "      <td>0</td>\n",
              "    </tr>\n",
              "    <tr>\n",
              "      <th>951</th>\n",
              "      <td>60 or older</td>\n",
              "      <td>Female</td>\n",
              "      <td>30.0</td>\n",
              "      <td>0</td>\n",
              "      <td>7</td>\n",
              "      <td>occasionally</td>\n",
              "      <td>1</td>\n",
              "    </tr>\n",
              "  </tbody>\n",
              "</table>\n",
              "<p>948 rows × 7 columns</p>\n",
              "</div>"
            ],
            "text/plain": [
              "              Age  Gender   BMI  Smoking  Sleep      JunkFood  Diabetic\n",
              "0           50-59    Male  39.0        0      8  occasionally         0\n",
              "1           50-59    Male  28.0        0      8    very often         0\n",
              "2           40-49    Male  24.0        0      6  occasionally         0\n",
              "3           50-59    Male  23.0        0      8  occasionally         0\n",
              "4           40-49    Male  27.0        0      8  occasionally         0\n",
              "..            ...     ...   ...      ...    ...           ...       ...\n",
              "947  less than 40    Male  25.0        0      8         often         1\n",
              "948   60 or older    Male  27.0        0      6  occasionally         1\n",
              "949   60 or older    Male  23.0        0      6  occasionally         0\n",
              "950   60 or older    Male  27.0        0      6  occasionally         0\n",
              "951   60 or older  Female  30.0        0      7  occasionally         1\n",
              "\n",
              "[948 rows x 7 columns]"
            ]
          },
          "metadata": {},
          "execution_count": 62
        }
      ]
    },
    {
      "cell_type": "code",
      "metadata": {
        "id": "l9f46vwYh4C2"
      },
      "source": [
        "tanudataset.Gender.eq('Male').mul(1)\n",
        "tanudataset.Gender = tanudataset.Gender.map(dict(Male=1, Female=0))\n"
      ],
      "execution_count": null,
      "outputs": []
    },
    {
      "cell_type": "code",
      "metadata": {
        "id": "y4ssG0wfIJp1"
      },
      "source": [
        "\n",
        "\n"
      ],
      "execution_count": null,
      "outputs": []
    },
    {
      "cell_type": "code",
      "metadata": {
        "colab": {
          "base_uri": "https://localhost:8080/",
          "height": 419
        },
        "id": "F81SWlbdioR4",
        "outputId": "8a891e17-9510-425c-bdbc-9c83bf1d601f"
      },
      "source": [
        "tanudataset"
      ],
      "execution_count": null,
      "outputs": [
        {
          "output_type": "execute_result",
          "data": {
            "text/html": [
              "<div>\n",
              "<style scoped>\n",
              "    .dataframe tbody tr th:only-of-type {\n",
              "        vertical-align: middle;\n",
              "    }\n",
              "\n",
              "    .dataframe tbody tr th {\n",
              "        vertical-align: top;\n",
              "    }\n",
              "\n",
              "    .dataframe thead th {\n",
              "        text-align: right;\n",
              "    }\n",
              "</style>\n",
              "<table border=\"1\" class=\"dataframe\">\n",
              "  <thead>\n",
              "    <tr style=\"text-align: right;\">\n",
              "      <th></th>\n",
              "      <th>Age</th>\n",
              "      <th>Gender</th>\n",
              "      <th>BMI</th>\n",
              "      <th>Smoking</th>\n",
              "      <th>Sleep</th>\n",
              "      <th>JunkFood</th>\n",
              "      <th>Diabetic</th>\n",
              "    </tr>\n",
              "  </thead>\n",
              "  <tbody>\n",
              "    <tr>\n",
              "      <th>0</th>\n",
              "      <td>50-59</td>\n",
              "      <td>1</td>\n",
              "      <td>39.0</td>\n",
              "      <td>0</td>\n",
              "      <td>8</td>\n",
              "      <td>occasionally</td>\n",
              "      <td>0</td>\n",
              "    </tr>\n",
              "    <tr>\n",
              "      <th>1</th>\n",
              "      <td>50-59</td>\n",
              "      <td>1</td>\n",
              "      <td>28.0</td>\n",
              "      <td>0</td>\n",
              "      <td>8</td>\n",
              "      <td>very often</td>\n",
              "      <td>0</td>\n",
              "    </tr>\n",
              "    <tr>\n",
              "      <th>2</th>\n",
              "      <td>40-49</td>\n",
              "      <td>1</td>\n",
              "      <td>24.0</td>\n",
              "      <td>0</td>\n",
              "      <td>6</td>\n",
              "      <td>occasionally</td>\n",
              "      <td>0</td>\n",
              "    </tr>\n",
              "    <tr>\n",
              "      <th>3</th>\n",
              "      <td>50-59</td>\n",
              "      <td>1</td>\n",
              "      <td>23.0</td>\n",
              "      <td>0</td>\n",
              "      <td>8</td>\n",
              "      <td>occasionally</td>\n",
              "      <td>0</td>\n",
              "    </tr>\n",
              "    <tr>\n",
              "      <th>4</th>\n",
              "      <td>40-49</td>\n",
              "      <td>1</td>\n",
              "      <td>27.0</td>\n",
              "      <td>0</td>\n",
              "      <td>8</td>\n",
              "      <td>occasionally</td>\n",
              "      <td>0</td>\n",
              "    </tr>\n",
              "    <tr>\n",
              "      <th>...</th>\n",
              "      <td>...</td>\n",
              "      <td>...</td>\n",
              "      <td>...</td>\n",
              "      <td>...</td>\n",
              "      <td>...</td>\n",
              "      <td>...</td>\n",
              "      <td>...</td>\n",
              "    </tr>\n",
              "    <tr>\n",
              "      <th>947</th>\n",
              "      <td>less than 40</td>\n",
              "      <td>1</td>\n",
              "      <td>25.0</td>\n",
              "      <td>0</td>\n",
              "      <td>8</td>\n",
              "      <td>often</td>\n",
              "      <td>1</td>\n",
              "    </tr>\n",
              "    <tr>\n",
              "      <th>948</th>\n",
              "      <td>60 or older</td>\n",
              "      <td>1</td>\n",
              "      <td>27.0</td>\n",
              "      <td>0</td>\n",
              "      <td>6</td>\n",
              "      <td>occasionally</td>\n",
              "      <td>1</td>\n",
              "    </tr>\n",
              "    <tr>\n",
              "      <th>949</th>\n",
              "      <td>60 or older</td>\n",
              "      <td>1</td>\n",
              "      <td>23.0</td>\n",
              "      <td>0</td>\n",
              "      <td>6</td>\n",
              "      <td>occasionally</td>\n",
              "      <td>0</td>\n",
              "    </tr>\n",
              "    <tr>\n",
              "      <th>950</th>\n",
              "      <td>60 or older</td>\n",
              "      <td>1</td>\n",
              "      <td>27.0</td>\n",
              "      <td>0</td>\n",
              "      <td>6</td>\n",
              "      <td>occasionally</td>\n",
              "      <td>0</td>\n",
              "    </tr>\n",
              "    <tr>\n",
              "      <th>951</th>\n",
              "      <td>60 or older</td>\n",
              "      <td>0</td>\n",
              "      <td>30.0</td>\n",
              "      <td>0</td>\n",
              "      <td>7</td>\n",
              "      <td>occasionally</td>\n",
              "      <td>1</td>\n",
              "    </tr>\n",
              "  </tbody>\n",
              "</table>\n",
              "<p>948 rows × 7 columns</p>\n",
              "</div>"
            ],
            "text/plain": [
              "              Age  Gender   BMI  Smoking  Sleep      JunkFood  Diabetic\n",
              "0           50-59       1  39.0        0      8  occasionally         0\n",
              "1           50-59       1  28.0        0      8    very often         0\n",
              "2           40-49       1  24.0        0      6  occasionally         0\n",
              "3           50-59       1  23.0        0      8  occasionally         0\n",
              "4           40-49       1  27.0        0      8  occasionally         0\n",
              "..            ...     ...   ...      ...    ...           ...       ...\n",
              "947  less than 40       1  25.0        0      8         often         1\n",
              "948   60 or older       1  27.0        0      6  occasionally         1\n",
              "949   60 or older       1  23.0        0      6  occasionally         0\n",
              "950   60 or older       1  27.0        0      6  occasionally         0\n",
              "951   60 or older       0  30.0        0      7  occasionally         1\n",
              "\n",
              "[948 rows x 7 columns]"
            ]
          },
          "metadata": {},
          "execution_count": 64
        }
      ]
    },
    {
      "cell_type": "code",
      "metadata": {
        "colab": {
          "base_uri": "https://localhost:8080/",
          "height": 1000
        },
        "id": "4SNcNjm8NPdf",
        "outputId": "7d1a0afd-9026-43e8-d244-7b3c66907c02"
      },
      "source": [
        "sns.catplot(\n",
        "    data=df1, \n",
        "    y=\"BMI\",\n",
        "    x=\"Sleep\",\n",
        "    aspect=1,\n",
        "    height=25,\n",
        "    kind=\"box\"\n",
        "    )\n",
        "plt.title(\"BMI based on amount of sleep\", fontsize= 25);\n",
        "plt.xlabel('Sleep', fontsize=25)\n",
        "plt.ylabel('BMI', fontsize=25)"
      ],
      "execution_count": null,
      "outputs": [
        {
          "output_type": "execute_result",
          "data": {
            "text/plain": [
              "Text(9.925000000000004, 0.5, 'BMI')"
            ]
          },
          "metadata": {},
          "execution_count": 65
        },
        {
          "output_type": "display_data",
          "data": {
            "image/png": "[encoded data removed]",
            "text/plain": [
              "<Figure size 1800x1800 with 1 Axes>"
            ]
          },
          "metadata": {
            "needs_background": "light"
          }
        }
      ]
    },
    {
      "cell_type": "code",
      "metadata": {
        "colab": {
          "base_uri": "https://localhost:8080/",
          "height": 1000
        },
        "id": "nzE8ScETN56X",
        "outputId": "bb2b2827-94de-4618-ae3d-bc2e25d42cd5"
      },
      "source": [
        "sns.catplot(\n",
        "    data=df1, \n",
        "    y=\"Sleep\",\n",
        "    x=\"Diabetic\",\n",
        "    aspect=0.5,\n",
        "    height=25,\n",
        "    jitter=0.5,\n",
        "    palette=\"Set2\",\n",
        "    ) \n",
        "plt.title(\"How sleep contributes to diabetis\", fontsize= 25);\n",
        "plt.ylabel('Sleep', fontsize=25)\n",
        "plt.xlabel('Diabetic', fontsize=25)\n"
      ],
      "execution_count": null,
      "outputs": [
        {
          "output_type": "execute_result",
          "data": {
            "text/plain": [
              "Text(0.5, 6.800000000000068, 'Diabetic')"
            ]
          },
          "metadata": {},
          "execution_count": 66
        },
        {
          "output_type": "display_data",
          "data": {
            "image/png": "[encoded data removed]",
            "text/plain": [
              "<Figure size 900x1800 with 1 Axes>"
            ]
          },
          "metadata": {
            "needs_background": "light"
          }
        }
      ]
    },
    {
      "cell_type": "code",
      "metadata": {
        "colab": {
          "base_uri": "https://localhost:8080/",
          "height": 641
        },
        "id": "c9KpAYfEP6wx",
        "outputId": "7ba041fe-82e3-4959-f3c0-0673c7269279"
      },
      "source": [
        "sns.catplot(\n",
        "    data=df1, \n",
        "    y=\"Smoking\",\n",
        "    x=\"Diabetic\",\n",
        "    aspect=0.5,\n",
        "    height=8,\n",
        "    jitter=0.5,\n",
        "    palette=\"Set2\",\n",
        "    ) \n",
        "plt.title(\"How smoking contributes to diabetis\", fontsize= 25);\n",
        "plt.ylabel('Smoking', fontsize=25)\n",
        "plt.xlabel('Diabetic', fontsize=25)"
      ],
      "execution_count": null,
      "outputs": [
        {
          "output_type": "execute_result",
          "data": {
            "text/plain": [
              "Text(0.5, 6.799999999999997, 'Diabetic')"
            ]
          },
          "metadata": {},
          "execution_count": 67
        },
        {
          "output_type": "display_data",
          "data": {
            "image/png": "[encoded data removed]",
            "text/plain": [
              "<Figure size 288x576 with 1 Axes>"
            ]
          },
          "metadata": {
            "needs_background": "light"
          }
        }
      ]
    },
    {
      "cell_type": "code",
      "metadata": {
        "colab": {
          "base_uri": "https://localhost:8080/",
          "height": 1000
        },
        "id": "VRyb803LRCVM",
        "outputId": "57503f1e-73fa-4306-f564-4a8dcdc2c050"
      },
      "source": [
        "sns.catplot(\n",
        "    data=df1, \n",
        "    y=\"Age\",\n",
        "    x=\"Diabetic\",\n",
        "    aspect=0.5,\n",
        "    height=15,\n",
        "    jitter=0.5,\n",
        "    palette=\"Set2\",\n",
        "    ) \n",
        "plt.title(\"How age contributes to diabetis\", fontsize= 25);\n",
        "plt.ylabel('Age', fontsize=25)\n",
        "plt.xlabel('Diabetic', fontsize=25)"
      ],
      "execution_count": null,
      "outputs": [
        {
          "output_type": "execute_result",
          "data": {
            "text/plain": [
              "Text(0.5, 6.79999999999999, 'Diabetic')"
            ]
          },
          "metadata": {},
          "execution_count": 68
        },
        {
          "output_type": "display_data",
          "data": {
            "image/png": "[encoded data removed]",
            "text/plain": [
              "<Figure size 540x1080 with 1 Axes>"
            ]
          },
          "metadata": {
            "needs_background": "light"
          }
        }
      ]
    },
    {
      "cell_type": "markdown",
      "metadata": {
        "id": "Gc_L4I6jRVWL"
      },
      "source": [
        "we can see that older people who are 60 years old and above are more diabetic compared to younger people. "
      ]
    },
    {
      "cell_type": "code",
      "metadata": {
        "colab": {
          "base_uri": "https://localhost:8080/",
          "height": 641
        },
        "id": "Kfv_PY4JRrCE",
        "outputId": "f6791b7f-febd-43bf-f2b6-6ca040b18fa6"
      },
      "source": [
        "sns.catplot(\n",
        "    data=df1, \n",
        "    y=\"Gender\",\n",
        "    x=\"Diabetic\",\n",
        "    aspect=0.5,\n",
        "    height=8,\n",
        "    jitter=0.5,\n",
        "    palette=\"Set2\",\n",
        "    ) \n",
        "plt.title(\"How gender contributes to diabetis\", fontsize= 25);\n",
        "plt.ylabel('Gender', fontsize=25)\n",
        "plt.xlabel('Diabetic', fontsize=25)"
      ],
      "execution_count": null,
      "outputs": [
        {
          "output_type": "execute_result",
          "data": {
            "text/plain": [
              "Text(0.5, 6.799999999999997, 'Diabetic')"
            ]
          },
          "metadata": {},
          "execution_count": 69
        },
        {
          "output_type": "display_data",
          "data": {
            "image/png": "[encoded data removed]",
            "text/plain": [
              "<Figure size 288x576 with 1 Axes>"
            ]
          },
          "metadata": {
            "needs_background": "light"
          }
        }
      ]
    },
    {
      "cell_type": "code",
      "metadata": {
        "id": "a3FtRqooSf-6"
      },
      "source": [
        ""
      ],
      "execution_count": null,
      "outputs": []
    }
  ]
}